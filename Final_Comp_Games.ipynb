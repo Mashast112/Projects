{
  "metadata": {
    "kernelspec": {
      "name": "python",
      "display_name": "Pyolite",
      "language": "python"
    },
    "language_info": {
      "codemirror_mode": {
        "name": "python",
        "version": 3
      },
      "file_extension": ".py",
      "mimetype": "text/x-python",
      "name": "python",
      "nbconvert_exporter": "python",
      "pygments_lexer": "ipython3",
      "version": "3.8"
    },
    "toc": {
      "base_numbering": 1,
      "nav_menu": {},
      "number_sections": true,
      "sideBar": true,
      "skip_h1_title": true,
      "title_cell": "Table of Contents",
      "title_sidebar": "Contents",
      "toc_cell": false,
      "toc_position": {
        "height": "calc(100% - 180px)",
        "left": "10px",
        "top": "150px",
        "width": "238.4px"
      },
      "toc_section_display": true,
      "toc_window_display": true
    }
  },
  "nbformat_minor": 4,
  "nbformat": 4,
  "cells": [
    {
      "cell_type": "markdown",
      "source": "# Research of computer games",
      "metadata": {}
    },
    {
      "cell_type": "markdown",
      "source": "We have data (until 2016) on game sales, user and expert ratings, genres and platforms (eg Xbox or PlayStation).\n\nWe should identify patterns that determine the success of the game. This will allow you to bid on a potentially popular product and plan advertising campaigns.",
      "metadata": {}
    },
    {
      "cell_type": "code",
      "source": "import pandas as pd\nimport matplotlib.pyplot as plt\nimport numpy as np\nimport seaborn as sns\nfrom scipy import stats",
      "metadata": {},
      "execution_count": 2,
      "outputs": []
    },
    {
      "cell_type": "code",
      "source": "df = pd.read_csv('/datasets/games.csv') \ndf.head(5)",
      "metadata": {},
      "execution_count": 3,
      "outputs": [
        {
          "execution_count": 3,
          "output_type": "execute_result",
          "data": {
            "text/html": [
              "<div>\n",
              "<style scoped>\n",
              "    .dataframe tbody tr th:only-of-type {\n",
              "        vertical-align: middle;\n",
              "    }\n",
              "\n",
              "    .dataframe tbody tr th {\n",
              "        vertical-align: top;\n",
              "    }\n",
              "\n",
              "    .dataframe thead th {\n",
              "        text-align: right;\n",
              "    }\n",
              "</style>\n",
              "<table border=\"1\" class=\"dataframe\">\n",
              "  <thead>\n",
              "    <tr style=\"text-align: right;\">\n",
              "      <th></th>\n",
              "      <th>Name</th>\n",
              "      <th>Platform</th>\n",
              "      <th>Year_of_Release</th>\n",
              "      <th>Genre</th>\n",
              "      <th>NA_sales</th>\n",
              "      <th>EU_sales</th>\n",
              "      <th>JP_sales</th>\n",
              "      <th>Other_sales</th>\n",
              "      <th>Critic_Score</th>\n",
              "      <th>User_Score</th>\n",
              "      <th>Rating</th>\n",
              "    </tr>\n",
              "  </thead>\n",
              "  <tbody>\n",
              "    <tr>\n",
              "      <td>0</td>\n",
              "      <td>Wii Sports</td>\n",
              "      <td>Wii</td>\n",
              "      <td>2006.0</td>\n",
              "      <td>Sports</td>\n",
              "      <td>41.36</td>\n",
              "      <td>28.96</td>\n",
              "      <td>3.77</td>\n",
              "      <td>8.45</td>\n",
              "      <td>76.0</td>\n",
              "      <td>8</td>\n",
              "      <td>E</td>\n",
              "    </tr>\n",
              "    <tr>\n",
              "      <td>1</td>\n",
              "      <td>Super Mario Bros.</td>\n",
              "      <td>NES</td>\n",
              "      <td>1985.0</td>\n",
              "      <td>Platform</td>\n",
              "      <td>29.08</td>\n",
              "      <td>3.58</td>\n",
              "      <td>6.81</td>\n",
              "      <td>0.77</td>\n",
              "      <td>NaN</td>\n",
              "      <td>NaN</td>\n",
              "      <td>NaN</td>\n",
              "    </tr>\n",
              "    <tr>\n",
              "      <td>2</td>\n",
              "      <td>Mario Kart Wii</td>\n",
              "      <td>Wii</td>\n",
              "      <td>2008.0</td>\n",
              "      <td>Racing</td>\n",
              "      <td>15.68</td>\n",
              "      <td>12.76</td>\n",
              "      <td>3.79</td>\n",
              "      <td>3.29</td>\n",
              "      <td>82.0</td>\n",
              "      <td>8.3</td>\n",
              "      <td>E</td>\n",
              "    </tr>\n",
              "    <tr>\n",
              "      <td>3</td>\n",
              "      <td>Wii Sports Resort</td>\n",
              "      <td>Wii</td>\n",
              "      <td>2009.0</td>\n",
              "      <td>Sports</td>\n",
              "      <td>15.61</td>\n",
              "      <td>10.93</td>\n",
              "      <td>3.28</td>\n",
              "      <td>2.95</td>\n",
              "      <td>80.0</td>\n",
              "      <td>8</td>\n",
              "      <td>E</td>\n",
              "    </tr>\n",
              "    <tr>\n",
              "      <td>4</td>\n",
              "      <td>Pokemon Red/Pokemon Blue</td>\n",
              "      <td>GB</td>\n",
              "      <td>1996.0</td>\n",
              "      <td>Role-Playing</td>\n",
              "      <td>11.27</td>\n",
              "      <td>8.89</td>\n",
              "      <td>10.22</td>\n",
              "      <td>1.00</td>\n",
              "      <td>NaN</td>\n",
              "      <td>NaN</td>\n",
              "      <td>NaN</td>\n",
              "    </tr>\n",
              "  </tbody>\n",
              "</table>\n",
              "</div>"
            ],
            "text/plain": [
              "                       Name Platform  Year_of_Release         Genre  NA_sales  \\\n",
              "0                Wii Sports      Wii           2006.0        Sports     41.36   \n",
              "1         Super Mario Bros.      NES           1985.0      Platform     29.08   \n",
              "2            Mario Kart Wii      Wii           2008.0        Racing     15.68   \n",
              "3         Wii Sports Resort      Wii           2009.0        Sports     15.61   \n",
              "4  Pokemon Red/Pokemon Blue       GB           1996.0  Role-Playing     11.27   \n",
              "\n",
              "   EU_sales  JP_sales  Other_sales  Critic_Score User_Score Rating  \n",
              "0     28.96      3.77         8.45          76.0          8      E  \n",
              "1      3.58      6.81         0.77           NaN        NaN    NaN  \n",
              "2     12.76      3.79         3.29          82.0        8.3      E  \n",
              "3     10.93      3.28         2.95          80.0          8      E  \n",
              "4      8.89     10.22         1.00           NaN        NaN    NaN  "
            ]
          },
          "metadata": {}
        }
      ]
    },
    {
      "cell_type": "markdown",
      "source": "**Description of variables**\n* Name - the name of the game\n* Platform - platform\n* Year_of_Release - year of release\n* Genre - game genre\n* NA_sales - sales in North America (millions of copies sold)\n* EU_sales - sales in Europe (millions of copies sold)\n* JP_sales - sales in Japan (millions of copies sold)\n* Other_sales - sales in other countries (millions of copies sold)\n* Critic_Score - Critics score (max 100)\n* User_Score - user score (maximum 10)\n* Rating - rating from the ESRB (Entertainment Software Rating Board). This association determines the rating of computer games and assigns them an appropriate age category.",
      "metadata": {}
    },
    {
      "cell_type": "markdown",
      "source": "Let's estimate the size of the table, the types of variables, and also check for possible gaps:",
      "metadata": {}
    },
    {
      "cell_type": "code",
      "source": "df.info()",
      "metadata": {},
      "execution_count": 4,
      "outputs": [
        {
          "name": "stdout",
          "output_type": "stream",
          "text": "<class 'pandas.core.frame.DataFrame'>\n\nRangeIndex: 16715 entries, 0 to 16714\n\nData columns (total 11 columns):\n\nName               16713 non-null object\n\nPlatform           16715 non-null object\n\nYear_of_Release    16446 non-null float64\n\nGenre              16713 non-null object\n\nNA_sales           16715 non-null float64\n\nEU_sales           16715 non-null float64\n\nJP_sales           16715 non-null float64\n\nOther_sales        16715 non-null float64\n\nCritic_Score       8137 non-null float64\n\nUser_Score         10014 non-null object\n\nRating             9949 non-null object\n\ndtypes: float64(6), object(5)\n\nmemory usage: 1.4+ MB\n"
        }
      ]
    },
    {
      "cell_type": "markdown",
      "source": "* Total 16715 input data;\n* Some data has incorrect variable type (for example, `user_score`)",
      "metadata": {}
    },
    {
      "cell_type": "code",
      "source": "pd.DataFrame(round((df.isna().mean()*100),2)).style.background_gradient('coolwarm')",
      "metadata": {},
      "execution_count": 5,
      "outputs": [
        {
          "execution_count": 5,
          "output_type": "execute_result",
          "data": {
            "text/html": [
              "<style  type=\"text/css\" >\n",
              "    #T_43492490_bbe8_11eb_bb04_02420a39234frow0_col0 {\n",
              "            background-color:  #3b4cc0;\n",
              "            color:  #f1f1f1;\n",
              "        }    #T_43492490_bbe8_11eb_bb04_02420a39234frow1_col0 {\n",
              "            background-color:  #3b4cc0;\n",
              "            color:  #f1f1f1;\n",
              "        }    #T_43492490_bbe8_11eb_bb04_02420a39234frow2_col0 {\n",
              "            background-color:  #445acc;\n",
              "            color:  #f1f1f1;\n",
              "        }    #T_43492490_bbe8_11eb_bb04_02420a39234frow3_col0 {\n",
              "            background-color:  #3b4cc0;\n",
              "            color:  #f1f1f1;\n",
              "        }    #T_43492490_bbe8_11eb_bb04_02420a39234frow4_col0 {\n",
              "            background-color:  #3b4cc0;\n",
              "            color:  #f1f1f1;\n",
              "        }    #T_43492490_bbe8_11eb_bb04_02420a39234frow5_col0 {\n",
              "            background-color:  #3b4cc0;\n",
              "            color:  #f1f1f1;\n",
              "        }    #T_43492490_bbe8_11eb_bb04_02420a39234frow6_col0 {\n",
              "            background-color:  #3b4cc0;\n",
              "            color:  #f1f1f1;\n",
              "        }    #T_43492490_bbe8_11eb_bb04_02420a39234frow7_col0 {\n",
              "            background-color:  #3b4cc0;\n",
              "            color:  #f1f1f1;\n",
              "        }    #T_43492490_bbe8_11eb_bb04_02420a39234frow8_col0 {\n",
              "            background-color:  #b40426;\n",
              "            color:  #f1f1f1;\n",
              "        }    #T_43492490_bbe8_11eb_bb04_02420a39234frow9_col0 {\n",
              "            background-color:  #f18d6f;\n",
              "            color:  #000000;\n",
              "        }    #T_43492490_bbe8_11eb_bb04_02420a39234frow10_col0 {\n",
              "            background-color:  #f08a6c;\n",
              "            color:  #000000;\n",
              "        }</style><table id=\"T_43492490_bbe8_11eb_bb04_02420a39234f\" ><thead>    <tr>        <th class=\"blank level0\" ></th>        <th class=\"col_heading level0 col0\" >0</th>    </tr></thead><tbody>\n",
              "                <tr>\n",
              "                        <th id=\"T_43492490_bbe8_11eb_bb04_02420a39234flevel0_row0\" class=\"row_heading level0 row0\" >Name</th>\n",
              "                        <td id=\"T_43492490_bbe8_11eb_bb04_02420a39234frow0_col0\" class=\"data row0 col0\" >0.01</td>\n",
              "            </tr>\n",
              "            <tr>\n",
              "                        <th id=\"T_43492490_bbe8_11eb_bb04_02420a39234flevel0_row1\" class=\"row_heading level0 row1\" >Platform</th>\n",
              "                        <td id=\"T_43492490_bbe8_11eb_bb04_02420a39234frow1_col0\" class=\"data row1 col0\" >0</td>\n",
              "            </tr>\n",
              "            <tr>\n",
              "                        <th id=\"T_43492490_bbe8_11eb_bb04_02420a39234flevel0_row2\" class=\"row_heading level0 row2\" >Year_of_Release</th>\n",
              "                        <td id=\"T_43492490_bbe8_11eb_bb04_02420a39234frow2_col0\" class=\"data row2 col0\" >1.61</td>\n",
              "            </tr>\n",
              "            <tr>\n",
              "                        <th id=\"T_43492490_bbe8_11eb_bb04_02420a39234flevel0_row3\" class=\"row_heading level0 row3\" >Genre</th>\n",
              "                        <td id=\"T_43492490_bbe8_11eb_bb04_02420a39234frow3_col0\" class=\"data row3 col0\" >0.01</td>\n",
              "            </tr>\n",
              "            <tr>\n",
              "                        <th id=\"T_43492490_bbe8_11eb_bb04_02420a39234flevel0_row4\" class=\"row_heading level0 row4\" >NA_sales</th>\n",
              "                        <td id=\"T_43492490_bbe8_11eb_bb04_02420a39234frow4_col0\" class=\"data row4 col0\" >0</td>\n",
              "            </tr>\n",
              "            <tr>\n",
              "                        <th id=\"T_43492490_bbe8_11eb_bb04_02420a39234flevel0_row5\" class=\"row_heading level0 row5\" >EU_sales</th>\n",
              "                        <td id=\"T_43492490_bbe8_11eb_bb04_02420a39234frow5_col0\" class=\"data row5 col0\" >0</td>\n",
              "            </tr>\n",
              "            <tr>\n",
              "                        <th id=\"T_43492490_bbe8_11eb_bb04_02420a39234flevel0_row6\" class=\"row_heading level0 row6\" >JP_sales</th>\n",
              "                        <td id=\"T_43492490_bbe8_11eb_bb04_02420a39234frow6_col0\" class=\"data row6 col0\" >0</td>\n",
              "            </tr>\n",
              "            <tr>\n",
              "                        <th id=\"T_43492490_bbe8_11eb_bb04_02420a39234flevel0_row7\" class=\"row_heading level0 row7\" >Other_sales</th>\n",
              "                        <td id=\"T_43492490_bbe8_11eb_bb04_02420a39234frow7_col0\" class=\"data row7 col0\" >0</td>\n",
              "            </tr>\n",
              "            <tr>\n",
              "                        <th id=\"T_43492490_bbe8_11eb_bb04_02420a39234flevel0_row8\" class=\"row_heading level0 row8\" >Critic_Score</th>\n",
              "                        <td id=\"T_43492490_bbe8_11eb_bb04_02420a39234frow8_col0\" class=\"data row8 col0\" >51.32</td>\n",
              "            </tr>\n",
              "            <tr>\n",
              "                        <th id=\"T_43492490_bbe8_11eb_bb04_02420a39234flevel0_row9\" class=\"row_heading level0 row9\" >User_Score</th>\n",
              "                        <td id=\"T_43492490_bbe8_11eb_bb04_02420a39234frow9_col0\" class=\"data row9 col0\" >40.09</td>\n",
              "            </tr>\n",
              "            <tr>\n",
              "                        <th id=\"T_43492490_bbe8_11eb_bb04_02420a39234flevel0_row10\" class=\"row_heading level0 row10\" >Rating</th>\n",
              "                        <td id=\"T_43492490_bbe8_11eb_bb04_02420a39234frow10_col0\" class=\"data row10 col0\" >40.48</td>\n",
              "            </tr>\n",
              "    </tbody></table>"
            ],
            "text/plain": [
              "<pandas.io.formats.style.Styler at 0x7facf63e8950>"
            ]
          },
          "metadata": {}
        }
      ]
    },
    {
      "cell_type": "markdown",
      "source": "* Variables `critic_score`, `user_score` and `rating` contain more than 40% missing values, which we cannot ignore.",
      "metadata": {}
    },
    {
      "cell_type": "markdown",
      "source": "<a id=\"step1\"></a>\n**Conclusion**",
      "metadata": {}
    },
    {
      "cell_type": "markdown",
      "source": "Each line of the table contains detailed information about the sales of computer games, about their ratings by users and experts, about the genres and platforms of these games.\n\nFirst, we have to prepare the data for analysis: process the identified missing values, change the data type, and also convert the variable names to lower case.\n\nThen, let's move on to the actual analysis.",
      "metadata": {}
    },
    {
      "cell_type": "markdown",
      "source": "### Preparing data for analysis",
      "metadata": {}
    },
    {
      "cell_type": "markdown",
      "source": "Before starting data processing, let's convert the variable names to lowercase:",
      "metadata": {}
    },
    {
      "cell_type": "code",
      "source": "df.columns = df.columns.str.lower()",
      "metadata": {},
      "execution_count": 6,
      "outputs": []
    },
    {
      "cell_type": "markdown",
      "source": "#### Handling Missing Values and Incorrect Types",
      "metadata": {}
    },
    {
      "cell_type": "code",
      "source": "df['critic_score'].unique()",
      "metadata": {},
      "execution_count": 7,
      "outputs": [
        {
          "execution_count": 7,
          "output_type": "execute_result",
          "data": {
            "text/plain": [
              "array([76., nan, 82., 80., 89., 58., 87., 91., 61., 97., 95., 77., 88.,\n",
              "       83., 94., 93., 85., 86., 98., 96., 90., 84., 73., 74., 78., 92.,\n",
              "       71., 72., 68., 62., 49., 67., 81., 66., 56., 79., 70., 59., 64.,\n",
              "       75., 60., 63., 69., 50., 25., 42., 44., 55., 48., 57., 29., 47.,\n",
              "       65., 54., 20., 53., 37., 38., 33., 52., 30., 32., 43., 45., 51.,\n",
              "       40., 46., 39., 34., 35., 41., 36., 28., 31., 27., 26., 19., 23.,\n",
              "       24., 21., 17., 22., 13.])"
            ]
          },
          "metadata": {}
        }
      ]
    },
    {
      "cell_type": "markdown",
      "source": "Заменим `na` на 0:",
      "metadata": {}
    },
    {
      "cell_type": "code",
      "source": "df['critic_score'] = df['critic_score'].fillna(0)",
      "metadata": {},
      "execution_count": 8,
      "outputs": []
    },
    {
      "cell_type": "code",
      "source": "df['user_score'].unique()",
      "metadata": {},
      "execution_count": 9,
      "outputs": [
        {
          "execution_count": 9,
          "output_type": "execute_result",
          "data": {
            "text/plain": [
              "array(['8', nan, '8.3', '8.5', '6.6', '8.4', '8.6', '7.7', '6.3', '7.4',\n",
              "       '8.2', '9', '7.9', '8.1', '8.7', '7.1', '3.4', '5.3', '4.8', '3.2',\n",
              "       '8.9', '6.4', '7.8', '7.5', '2.6', '7.2', '9.2', '7', '7.3', '4.3',\n",
              "       '7.6', '5.7', '5', '9.1', '6.5', 'tbd', '8.8', '6.9', '9.4', '6.8',\n",
              "       '6.1', '6.7', '5.4', '4', '4.9', '4.5', '9.3', '6.2', '4.2', '6',\n",
              "       '3.7', '4.1', '5.8', '5.6', '5.5', '4.4', '4.6', '5.9', '3.9',\n",
              "       '3.1', '2.9', '5.2', '3.3', '4.7', '5.1', '3.5', '2.5', '1.9', '3',\n",
              "       '2.7', '2.2', '2', '9.5', '2.1', '3.6', '2.8', '1.8', '3.8', '0',\n",
              "       '1.6', '9.6', '2.4', '1.7', '1.1', '0.3', '1.5', '0.7', '1.2',\n",
              "       '2.3', '0.5', '1.3', '0.2', '0.6', '1.4', '0.9', '1', '9.7'],\n",
              "      dtype=object)"
            ]
          },
          "metadata": {}
        }
      ]
    },
    {
      "cell_type": "markdown",
      "source": "The `tbd` parameter - *no ratings yet* - no ratings displayed because at least four (4) reviews are missing from the platform database.\n\nhttps://www.metacritic.com/faq",
      "metadata": {}
    },
    {
      "cell_type": "markdown",
      "source": "Since the `user_score` variable is needed later for calculations, only a numeric replacement will do.\n\nIt was possible to substitute the data `critic_score`, but they are measured on a 100-point scale.\nLet's try to replace `na` with 0 and `tbd` with -1, and also change the type from `object` to `float`.",
      "metadata": {}
    },
    {
      "cell_type": "markdown",
      "source": "*Before replacing `na` with 0, check how many games with `user_score` = 0 are in our database*:",
      "metadata": {}
    },
    {
      "cell_type": "code",
      "source": "df.loc[df['user_score'] == '0'] # 1 game",
      "metadata": {},
      "execution_count": 10,
      "outputs": [
        {
          "execution_count": 10,
          "output_type": "execute_result",
          "data": {
            "text/html": [
              "<div>\n",
              "<style scoped>\n",
              "    .dataframe tbody tr th:only-of-type {\n",
              "        vertical-align: middle;\n",
              "    }\n",
              "\n",
              "    .dataframe tbody tr th {\n",
              "        vertical-align: top;\n",
              "    }\n",
              "\n",
              "    .dataframe thead th {\n",
              "        text-align: right;\n",
              "    }\n",
              "</style>\n",
              "<table border=\"1\" class=\"dataframe\">\n",
              "  <thead>\n",
              "    <tr style=\"text-align: right;\">\n",
              "      <th></th>\n",
              "      <th>name</th>\n",
              "      <th>platform</th>\n",
              "      <th>year_of_release</th>\n",
              "      <th>genre</th>\n",
              "      <th>na_sales</th>\n",
              "      <th>eu_sales</th>\n",
              "      <th>jp_sales</th>\n",
              "      <th>other_sales</th>\n",
              "      <th>critic_score</th>\n",
              "      <th>user_score</th>\n",
              "      <th>rating</th>\n",
              "    </tr>\n",
              "  </thead>\n",
              "  <tbody>\n",
              "    <tr>\n",
              "      <td>2835</td>\n",
              "      <td>My Little Pony: Pinkie Pie's Party</td>\n",
              "      <td>DS</td>\n",
              "      <td>2008.0</td>\n",
              "      <td>Adventure</td>\n",
              "      <td>0.66</td>\n",
              "      <td>0.0</td>\n",
              "      <td>0.0</td>\n",
              "      <td>0.06</td>\n",
              "      <td>0.0</td>\n",
              "      <td>0</td>\n",
              "      <td>E</td>\n",
              "    </tr>\n",
              "  </tbody>\n",
              "</table>\n",
              "</div>"
            ],
            "text/plain": [
              "                                    name platform  year_of_release      genre  \\\n",
              "2835  My Little Pony: Pinkie Pie's Party       DS           2008.0  Adventure   \n",
              "\n",
              "      na_sales  eu_sales  jp_sales  other_sales  critic_score user_score  \\\n",
              "2835      0.66       0.0       0.0         0.06           0.0          0   \n",
              "\n",
              "     rating  \n",
              "2835      E  "
            ]
          },
          "metadata": {}
        }
      ]
    },
    {
      "cell_type": "code",
      "source": "df.loc[df['user_score'] == 'tbd', 'user_score'] = -1",
      "metadata": {},
      "execution_count": 11,
      "outputs": []
    },
    {
      "cell_type": "code",
      "source": "df['user_score'] = df['user_score'].fillna(0).astype(float)",
      "metadata": {},
      "execution_count": 12,
      "outputs": []
    },
    {
      "cell_type": "markdown",
      "source": "The `rating` category also has 40% missing values:",
      "metadata": {}
    },
    {
      "cell_type": "code",
      "source": "df['rating'].unique()",
      "metadata": {},
      "execution_count": 13,
      "outputs": [
        {
          "execution_count": 13,
          "output_type": "execute_result",
          "data": {
            "text/plain": [
              "array(['E', nan, 'M', 'T', 'E10+', 'K-A', 'AO', 'EC', 'RP'], dtype=object)"
            ]
          },
          "metadata": {}
        }
      ]
    },
    {
      "cell_type": "markdown",
      "source": "Decryption:\n\n* Rating Pending (RP) - \"Rating pending\"\n* \"EC\" (\"Early childhood\") - \"For young children\"\n* \"E\" (\"Everyone\") - \"For everyone\" **OR** \"K-A\" (\"Kids to Adults\")\n* \"E10+\" (\"Everyone 10 and older\")\n* \"T\" (\"Teen\") - \"Teens\" (13+)\n* \"M\" (\"Mature\") - \"For adults\" (17+)\n* \"AO\" (\"Adults Only 18+\") - \"Adults Only\"\n* \"RP\" (\"Rating Pending\") - \"Rating is pending\"\n\nhttps://en.wikipedia.org/wiki/Entertainment_Software_Rating_Board",
      "metadata": {}
    },
    {
      "cell_type": "markdown",
      "source": "Let's edit the values a bit:",
      "metadata": {}
    },
    {
      "cell_type": "code",
      "source": "df.loc[df['rating'] == 'K-A', 'rating'] = 'E'",
      "metadata": {},
      "execution_count": 14,
      "outputs": []
    },
    {
      "cell_type": "code",
      "source": "df['rating'] = df['rating'].fillna('Unknown')",
      "metadata": {},
      "execution_count": 15,
      "outputs": []
    },
    {
      "cell_type": "markdown",
      "source": "Year of release - `year_of_release` is not of the correct type, but ~1% of gaps prevent it from being changed:",
      "metadata": {}
    },
    {
      "cell_type": "markdown",
      "source": "Since there are very few missing values, we will remove them with the `dropna()` method and change the type from `float64` to `int`:",
      "metadata": {}
    },
    {
      "cell_type": "code",
      "source": "df.dropna(subset = ['year_of_release'], inplace = True)\ndf['year_of_release'] = df['year_of_release'].astype(int)",
      "metadata": {},
      "execution_count": 16,
      "outputs": []
    },
    {
      "cell_type": "markdown",
      "source": "Although `name` and `genre` also have very few spaces, let's replace them with `Unknown`:",
      "metadata": {}
    },
    {
      "cell_type": "code",
      "source": "df['name'] = df['name'].fillna('Unknown')",
      "metadata": {},
      "execution_count": 17,
      "outputs": []
    },
    {
      "cell_type": "code",
      "source": "df['genre'] = df['genre'].fillna('Unknown')",
      "metadata": {},
      "execution_count": 18,
      "outputs": []
    },
    {
      "cell_type": "code",
      "source": "pd.DataFrame(round((df.isna().mean()*100),2)).style.background_gradient('coolwarm')",
      "metadata": {},
      "execution_count": 19,
      "outputs": [
        {
          "execution_count": 19,
          "output_type": "execute_result",
          "data": {
            "text/html": [
              "<style  type=\"text/css\" >\n",
              "    #T_436326ec_bbe8_11eb_bb04_02420a39234frow0_col0 {\n",
              "            background-color:  #3b4cc0;\n",
              "            color:  #f1f1f1;\n",
              "        }    #T_436326ec_bbe8_11eb_bb04_02420a39234frow1_col0 {\n",
              "            background-color:  #3b4cc0;\n",
              "            color:  #f1f1f1;\n",
              "        }    #T_436326ec_bbe8_11eb_bb04_02420a39234frow2_col0 {\n",
              "            background-color:  #3b4cc0;\n",
              "            color:  #f1f1f1;\n",
              "        }    #T_436326ec_bbe8_11eb_bb04_02420a39234frow3_col0 {\n",
              "            background-color:  #3b4cc0;\n",
              "            color:  #f1f1f1;\n",
              "        }    #T_436326ec_bbe8_11eb_bb04_02420a39234frow4_col0 {\n",
              "            background-color:  #3b4cc0;\n",
              "            color:  #f1f1f1;\n",
              "        }    #T_436326ec_bbe8_11eb_bb04_02420a39234frow5_col0 {\n",
              "            background-color:  #3b4cc0;\n",
              "            color:  #f1f1f1;\n",
              "        }    #T_436326ec_bbe8_11eb_bb04_02420a39234frow6_col0 {\n",
              "            background-color:  #3b4cc0;\n",
              "            color:  #f1f1f1;\n",
              "        }    #T_436326ec_bbe8_11eb_bb04_02420a39234frow7_col0 {\n",
              "            background-color:  #3b4cc0;\n",
              "            color:  #f1f1f1;\n",
              "        }    #T_436326ec_bbe8_11eb_bb04_02420a39234frow8_col0 {\n",
              "            background-color:  #3b4cc0;\n",
              "            color:  #f1f1f1;\n",
              "        }    #T_436326ec_bbe8_11eb_bb04_02420a39234frow9_col0 {\n",
              "            background-color:  #3b4cc0;\n",
              "            color:  #f1f1f1;\n",
              "        }    #T_436326ec_bbe8_11eb_bb04_02420a39234frow10_col0 {\n",
              "            background-color:  #3b4cc0;\n",
              "            color:  #f1f1f1;\n",
              "        }</style><table id=\"T_436326ec_bbe8_11eb_bb04_02420a39234f\" ><thead>    <tr>        <th class=\"blank level0\" ></th>        <th class=\"col_heading level0 col0\" >0</th>    </tr></thead><tbody>\n",
              "                <tr>\n",
              "                        <th id=\"T_436326ec_bbe8_11eb_bb04_02420a39234flevel0_row0\" class=\"row_heading level0 row0\" >name</th>\n",
              "                        <td id=\"T_436326ec_bbe8_11eb_bb04_02420a39234frow0_col0\" class=\"data row0 col0\" >0</td>\n",
              "            </tr>\n",
              "            <tr>\n",
              "                        <th id=\"T_436326ec_bbe8_11eb_bb04_02420a39234flevel0_row1\" class=\"row_heading level0 row1\" >platform</th>\n",
              "                        <td id=\"T_436326ec_bbe8_11eb_bb04_02420a39234frow1_col0\" class=\"data row1 col0\" >0</td>\n",
              "            </tr>\n",
              "            <tr>\n",
              "                        <th id=\"T_436326ec_bbe8_11eb_bb04_02420a39234flevel0_row2\" class=\"row_heading level0 row2\" >year_of_release</th>\n",
              "                        <td id=\"T_436326ec_bbe8_11eb_bb04_02420a39234frow2_col0\" class=\"data row2 col0\" >0</td>\n",
              "            </tr>\n",
              "            <tr>\n",
              "                        <th id=\"T_436326ec_bbe8_11eb_bb04_02420a39234flevel0_row3\" class=\"row_heading level0 row3\" >genre</th>\n",
              "                        <td id=\"T_436326ec_bbe8_11eb_bb04_02420a39234frow3_col0\" class=\"data row3 col0\" >0</td>\n",
              "            </tr>\n",
              "            <tr>\n",
              "                        <th id=\"T_436326ec_bbe8_11eb_bb04_02420a39234flevel0_row4\" class=\"row_heading level0 row4\" >na_sales</th>\n",
              "                        <td id=\"T_436326ec_bbe8_11eb_bb04_02420a39234frow4_col0\" class=\"data row4 col0\" >0</td>\n",
              "            </tr>\n",
              "            <tr>\n",
              "                        <th id=\"T_436326ec_bbe8_11eb_bb04_02420a39234flevel0_row5\" class=\"row_heading level0 row5\" >eu_sales</th>\n",
              "                        <td id=\"T_436326ec_bbe8_11eb_bb04_02420a39234frow5_col0\" class=\"data row5 col0\" >0</td>\n",
              "            </tr>\n",
              "            <tr>\n",
              "                        <th id=\"T_436326ec_bbe8_11eb_bb04_02420a39234flevel0_row6\" class=\"row_heading level0 row6\" >jp_sales</th>\n",
              "                        <td id=\"T_436326ec_bbe8_11eb_bb04_02420a39234frow6_col0\" class=\"data row6 col0\" >0</td>\n",
              "            </tr>\n",
              "            <tr>\n",
              "                        <th id=\"T_436326ec_bbe8_11eb_bb04_02420a39234flevel0_row7\" class=\"row_heading level0 row7\" >other_sales</th>\n",
              "                        <td id=\"T_436326ec_bbe8_11eb_bb04_02420a39234frow7_col0\" class=\"data row7 col0\" >0</td>\n",
              "            </tr>\n",
              "            <tr>\n",
              "                        <th id=\"T_436326ec_bbe8_11eb_bb04_02420a39234flevel0_row8\" class=\"row_heading level0 row8\" >critic_score</th>\n",
              "                        <td id=\"T_436326ec_bbe8_11eb_bb04_02420a39234frow8_col0\" class=\"data row8 col0\" >0</td>\n",
              "            </tr>\n",
              "            <tr>\n",
              "                        <th id=\"T_436326ec_bbe8_11eb_bb04_02420a39234flevel0_row9\" class=\"row_heading level0 row9\" >user_score</th>\n",
              "                        <td id=\"T_436326ec_bbe8_11eb_bb04_02420a39234frow9_col0\" class=\"data row9 col0\" >0</td>\n",
              "            </tr>\n",
              "            <tr>\n",
              "                        <th id=\"T_436326ec_bbe8_11eb_bb04_02420a39234flevel0_row10\" class=\"row_heading level0 row10\" >rating</th>\n",
              "                        <td id=\"T_436326ec_bbe8_11eb_bb04_02420a39234frow10_col0\" class=\"data row10 col0\" >0</td>\n",
              "            </tr>\n",
              "    </tbody></table>"
            ],
            "text/plain": [
              "<pandas.io.formats.style.Styler at 0x7facf602b1d0>"
            ]
          },
          "metadata": {}
        }
      ]
    },
    {
      "cell_type": "markdown",
      "source": "#### Checking for duplicates",
      "metadata": {}
    },
    {
      "cell_type": "code",
      "source": "df['platform'].unique()",
      "metadata": {},
      "execution_count": 20,
      "outputs": [
        {
          "execution_count": 20,
          "output_type": "execute_result",
          "data": {
            "text/plain": [
              "array(['Wii', 'NES', 'GB', 'DS', 'X360', 'PS3', 'PS2', 'SNES', 'GBA',\n",
              "       'PS4', '3DS', 'N64', 'PS', 'XB', 'PC', '2600', 'PSP', 'XOne',\n",
              "       'WiiU', 'GC', 'GEN', 'DC', 'PSV', 'SAT', 'SCD', 'WS', 'NG', 'TG16',\n",
              "       '3DO', 'GG', 'PCFX'], dtype=object)"
            ]
          },
          "metadata": {}
        }
      ]
    },
    {
      "cell_type": "code",
      "source": "df['genre'].unique()",
      "metadata": {},
      "execution_count": 21,
      "outputs": [
        {
          "execution_count": 21,
          "output_type": "execute_result",
          "data": {
            "text/plain": [
              "array(['Sports', 'Platform', 'Racing', 'Role-Playing', 'Puzzle', 'Misc',\n",
              "       'Shooter', 'Simulation', 'Action', 'Fighting', 'Adventure',\n",
              "       'Strategy', 'Unknown'], dtype=object)"
            ]
          },
          "metadata": {}
        }
      ]
    },
    {
      "cell_type": "code",
      "source": "df.duplicated().sum()",
      "metadata": {},
      "execution_count": 22,
      "outputs": [
        {
          "execution_count": 22,
          "output_type": "execute_result",
          "data": {
            "text/plain": [
              "0"
            ]
          },
          "metadata": {}
        }
      ]
    },
    {
      "cell_type": "markdown",
      "source": "#### New variable",
      "metadata": {}
    },
    {
      "cell_type": "markdown",
      "source": "Let's add a new variable `total_sales` with total sales in all regions:",
      "metadata": {}
    },
    {
      "cell_type": "code",
      "source": "df['total_sales'] = df['na_sales'] + df['eu_sales'] + df['jp_sales'] + df['other_sales']",
      "metadata": {},
      "execution_count": 23,
      "outputs": []
    },
    {
      "cell_type": "code",
      "source": "df.head(5)",
      "metadata": {},
      "execution_count": 24,
      "outputs": [
        {
          "execution_count": 24,
          "output_type": "execute_result",
          "data": {
            "text/html": [
              "<div>\n",
              "<style scoped>\n",
              "    .dataframe tbody tr th:only-of-type {\n",
              "        vertical-align: middle;\n",
              "    }\n",
              "\n",
              "    .dataframe tbody tr th {\n",
              "        vertical-align: top;\n",
              "    }\n",
              "\n",
              "    .dataframe thead th {\n",
              "        text-align: right;\n",
              "    }\n",
              "</style>\n",
              "<table border=\"1\" class=\"dataframe\">\n",
              "  <thead>\n",
              "    <tr style=\"text-align: right;\">\n",
              "      <th></th>\n",
              "      <th>name</th>\n",
              "      <th>platform</th>\n",
              "      <th>year_of_release</th>\n",
              "      <th>genre</th>\n",
              "      <th>na_sales</th>\n",
              "      <th>eu_sales</th>\n",
              "      <th>jp_sales</th>\n",
              "      <th>other_sales</th>\n",
              "      <th>critic_score</th>\n",
              "      <th>user_score</th>\n",
              "      <th>rating</th>\n",
              "      <th>total_sales</th>\n",
              "    </tr>\n",
              "  </thead>\n",
              "  <tbody>\n",
              "    <tr>\n",
              "      <td>0</td>\n",
              "      <td>Wii Sports</td>\n",
              "      <td>Wii</td>\n",
              "      <td>2006</td>\n",
              "      <td>Sports</td>\n",
              "      <td>41.36</td>\n",
              "      <td>28.96</td>\n",
              "      <td>3.77</td>\n",
              "      <td>8.45</td>\n",
              "      <td>76.0</td>\n",
              "      <td>8.0</td>\n",
              "      <td>E</td>\n",
              "      <td>82.54</td>\n",
              "    </tr>\n",
              "    <tr>\n",
              "      <td>1</td>\n",
              "      <td>Super Mario Bros.</td>\n",
              "      <td>NES</td>\n",
              "      <td>1985</td>\n",
              "      <td>Platform</td>\n",
              "      <td>29.08</td>\n",
              "      <td>3.58</td>\n",
              "      <td>6.81</td>\n",
              "      <td>0.77</td>\n",
              "      <td>0.0</td>\n",
              "      <td>0.0</td>\n",
              "      <td>Unknown</td>\n",
              "      <td>40.24</td>\n",
              "    </tr>\n",
              "    <tr>\n",
              "      <td>2</td>\n",
              "      <td>Mario Kart Wii</td>\n",
              "      <td>Wii</td>\n",
              "      <td>2008</td>\n",
              "      <td>Racing</td>\n",
              "      <td>15.68</td>\n",
              "      <td>12.76</td>\n",
              "      <td>3.79</td>\n",
              "      <td>3.29</td>\n",
              "      <td>82.0</td>\n",
              "      <td>8.3</td>\n",
              "      <td>E</td>\n",
              "      <td>35.52</td>\n",
              "    </tr>\n",
              "    <tr>\n",
              "      <td>3</td>\n",
              "      <td>Wii Sports Resort</td>\n",
              "      <td>Wii</td>\n",
              "      <td>2009</td>\n",
              "      <td>Sports</td>\n",
              "      <td>15.61</td>\n",
              "      <td>10.93</td>\n",
              "      <td>3.28</td>\n",
              "      <td>2.95</td>\n",
              "      <td>80.0</td>\n",
              "      <td>8.0</td>\n",
              "      <td>E</td>\n",
              "      <td>32.77</td>\n",
              "    </tr>\n",
              "    <tr>\n",
              "      <td>4</td>\n",
              "      <td>Pokemon Red/Pokemon Blue</td>\n",
              "      <td>GB</td>\n",
              "      <td>1996</td>\n",
              "      <td>Role-Playing</td>\n",
              "      <td>11.27</td>\n",
              "      <td>8.89</td>\n",
              "      <td>10.22</td>\n",
              "      <td>1.00</td>\n",
              "      <td>0.0</td>\n",
              "      <td>0.0</td>\n",
              "      <td>Unknown</td>\n",
              "      <td>31.38</td>\n",
              "    </tr>\n",
              "  </tbody>\n",
              "</table>\n",
              "</div>"
            ],
            "text/plain": [
              "                       name platform  year_of_release         genre  na_sales  \\\n",
              "0                Wii Sports      Wii             2006        Sports     41.36   \n",
              "1         Super Mario Bros.      NES             1985      Platform     29.08   \n",
              "2            Mario Kart Wii      Wii             2008        Racing     15.68   \n",
              "3         Wii Sports Resort      Wii             2009        Sports     15.61   \n",
              "4  Pokemon Red/Pokemon Blue       GB             1996  Role-Playing     11.27   \n",
              "\n",
              "   eu_sales  jp_sales  other_sales  critic_score  user_score   rating  \\\n",
              "0     28.96      3.77         8.45          76.0         8.0        E   \n",
              "1      3.58      6.81         0.77           0.0         0.0  Unknown   \n",
              "2     12.76      3.79         3.29          82.0         8.3        E   \n",
              "3     10.93      3.28         2.95          80.0         8.0        E   \n",
              "4      8.89     10.22         1.00           0.0         0.0  Unknown   \n",
              "\n",
              "   total_sales  \n",
              "0        82.54  \n",
              "1        40.24  \n",
              "2        35.52  \n",
              "3        32.77  \n",
              "4        31.38  "
            ]
          },
          "metadata": {}
        }
      ]
    },
    {
      "cell_type": "markdown",
      "source": "<a id=\"step2\"></a>\n**Conclusion**",
      "metadata": {}
    },
    {
      "cell_type": "markdown",
      "source": "Several key variables for further analysis - `user_score`, `critic_score` and `rating` contained more than 40% of missing values, which we replaced with `0` and `Unknown` respectively. Moreover, we have replaced the `tbd` category in the rating with -1. In the `year_of_release` category, we removed less than 2% of missing values.\n\nWe also changed the type of two variables - `user_score` and `year_of_release` to `float` and `int` respectively to implement future calculations.",
      "metadata": {}
    },
    {
      "cell_type": "markdown",
      "source": "### Data analysis",
      "metadata": {}
    },
    {
      "cell_type": "markdown",
      "source": "####  Selection of actual data",
      "metadata": {}
    },
    {
      "cell_type": "markdown",
      "source": "At this stage, we need to select key values ​​to describe the current forecast for 2017.\n\n1. Let's see how many games were released in different years in general:",
      "metadata": {}
    },
    {
      "cell_type": "code",
      "source": "numb_games = df.pivot_table(index='year_of_release', values =[ 'name'],\n                               aggfunc={'name': 'count'})\nnumb_games.columns = ['numb_of_games']\nnumb_games",
      "metadata": {},
      "execution_count": 25,
      "outputs": [
        {
          "execution_count": 25,
          "output_type": "execute_result",
          "data": {
            "text/html": [
              "<div>\n",
              "<style scoped>\n",
              "    .dataframe tbody tr th:only-of-type {\n",
              "        vertical-align: middle;\n",
              "    }\n",
              "\n",
              "    .dataframe tbody tr th {\n",
              "        vertical-align: top;\n",
              "    }\n",
              "\n",
              "    .dataframe thead th {\n",
              "        text-align: right;\n",
              "    }\n",
              "</style>\n",
              "<table border=\"1\" class=\"dataframe\">\n",
              "  <thead>\n",
              "    <tr style=\"text-align: right;\">\n",
              "      <th></th>\n",
              "      <th>numb_of_games</th>\n",
              "    </tr>\n",
              "    <tr>\n",
              "      <th>year_of_release</th>\n",
              "      <th></th>\n",
              "    </tr>\n",
              "  </thead>\n",
              "  <tbody>\n",
              "    <tr>\n",
              "      <td>1980</td>\n",
              "      <td>9</td>\n",
              "    </tr>\n",
              "    <tr>\n",
              "      <td>1981</td>\n",
              "      <td>46</td>\n",
              "    </tr>\n",
              "    <tr>\n",
              "      <td>1982</td>\n",
              "      <td>36</td>\n",
              "    </tr>\n",
              "    <tr>\n",
              "      <td>1983</td>\n",
              "      <td>17</td>\n",
              "    </tr>\n",
              "    <tr>\n",
              "      <td>1984</td>\n",
              "      <td>14</td>\n",
              "    </tr>\n",
              "    <tr>\n",
              "      <td>1985</td>\n",
              "      <td>14</td>\n",
              "    </tr>\n",
              "    <tr>\n",
              "      <td>1986</td>\n",
              "      <td>21</td>\n",
              "    </tr>\n",
              "    <tr>\n",
              "      <td>1987</td>\n",
              "      <td>16</td>\n",
              "    </tr>\n",
              "    <tr>\n",
              "      <td>1988</td>\n",
              "      <td>15</td>\n",
              "    </tr>\n",
              "    <tr>\n",
              "      <td>1989</td>\n",
              "      <td>17</td>\n",
              "    </tr>\n",
              "    <tr>\n",
              "      <td>1990</td>\n",
              "      <td>16</td>\n",
              "    </tr>\n",
              "    <tr>\n",
              "      <td>1991</td>\n",
              "      <td>41</td>\n",
              "    </tr>\n",
              "    <tr>\n",
              "      <td>1992</td>\n",
              "      <td>43</td>\n",
              "    </tr>\n",
              "    <tr>\n",
              "      <td>1993</td>\n",
              "      <td>62</td>\n",
              "    </tr>\n",
              "    <tr>\n",
              "      <td>1994</td>\n",
              "      <td>121</td>\n",
              "    </tr>\n",
              "    <tr>\n",
              "      <td>1995</td>\n",
              "      <td>219</td>\n",
              "    </tr>\n",
              "    <tr>\n",
              "      <td>1996</td>\n",
              "      <td>263</td>\n",
              "    </tr>\n",
              "    <tr>\n",
              "      <td>1997</td>\n",
              "      <td>289</td>\n",
              "    </tr>\n",
              "    <tr>\n",
              "      <td>1998</td>\n",
              "      <td>379</td>\n",
              "    </tr>\n",
              "    <tr>\n",
              "      <td>1999</td>\n",
              "      <td>338</td>\n",
              "    </tr>\n",
              "    <tr>\n",
              "      <td>2000</td>\n",
              "      <td>350</td>\n",
              "    </tr>\n",
              "    <tr>\n",
              "      <td>2001</td>\n",
              "      <td>482</td>\n",
              "    </tr>\n",
              "    <tr>\n",
              "      <td>2002</td>\n",
              "      <td>829</td>\n",
              "    </tr>\n",
              "    <tr>\n",
              "      <td>2003</td>\n",
              "      <td>775</td>\n",
              "    </tr>\n",
              "    <tr>\n",
              "      <td>2004</td>\n",
              "      <td>762</td>\n",
              "    </tr>\n",
              "    <tr>\n",
              "      <td>2005</td>\n",
              "      <td>939</td>\n",
              "    </tr>\n",
              "    <tr>\n",
              "      <td>2006</td>\n",
              "      <td>1006</td>\n",
              "    </tr>\n",
              "    <tr>\n",
              "      <td>2007</td>\n",
              "      <td>1197</td>\n",
              "    </tr>\n",
              "    <tr>\n",
              "      <td>2008</td>\n",
              "      <td>1427</td>\n",
              "    </tr>\n",
              "    <tr>\n",
              "      <td>2009</td>\n",
              "      <td>1426</td>\n",
              "    </tr>\n",
              "    <tr>\n",
              "      <td>2010</td>\n",
              "      <td>1255</td>\n",
              "    </tr>\n",
              "    <tr>\n",
              "      <td>2011</td>\n",
              "      <td>1136</td>\n",
              "    </tr>\n",
              "    <tr>\n",
              "      <td>2012</td>\n",
              "      <td>653</td>\n",
              "    </tr>\n",
              "    <tr>\n",
              "      <td>2013</td>\n",
              "      <td>544</td>\n",
              "    </tr>\n",
              "    <tr>\n",
              "      <td>2014</td>\n",
              "      <td>581</td>\n",
              "    </tr>\n",
              "    <tr>\n",
              "      <td>2015</td>\n",
              "      <td>606</td>\n",
              "    </tr>\n",
              "    <tr>\n",
              "      <td>2016</td>\n",
              "      <td>502</td>\n",
              "    </tr>\n",
              "  </tbody>\n",
              "</table>\n",
              "</div>"
            ],
            "text/plain": [
              "                 numb_of_games\n",
              "year_of_release               \n",
              "1980                         9\n",
              "1981                        46\n",
              "1982                        36\n",
              "1983                        17\n",
              "1984                        14\n",
              "1985                        14\n",
              "1986                        21\n",
              "1987                        16\n",
              "1988                        15\n",
              "1989                        17\n",
              "1990                        16\n",
              "1991                        41\n",
              "1992                        43\n",
              "1993                        62\n",
              "1994                       121\n",
              "1995                       219\n",
              "1996                       263\n",
              "1997                       289\n",
              "1998                       379\n",
              "1999                       338\n",
              "2000                       350\n",
              "2001                       482\n",
              "2002                       829\n",
              "2003                       775\n",
              "2004                       762\n",
              "2005                       939\n",
              "2006                      1006\n",
              "2007                      1197\n",
              "2008                      1427\n",
              "2009                      1426\n",
              "2010                      1255\n",
              "2011                      1136\n",
              "2012                       653\n",
              "2013                       544\n",
              "2014                       581\n",
              "2015                       606\n",
              "2016                       502"
            ]
          },
          "metadata": {}
        }
      ]
    },
    {
      "cell_type": "markdown",
      "source": "> * In the period from 2006 to 2011 there is a boom: a lot of computer games are released, which leads to an increase in sales.\n> * Since 2012, we have seen a sharp decline that will continue until 2014 inclusive.\n\n**Do data for all periods matter?**\n\n* The table above shows that it makes no sense to consider the 20th century, since the culture of games was only gaining momentum. Moreover, for an up-to-date forecast, it is probably not worth considering games released more than 16 years ago.\n* Let's try to filter the data since 2005, capturing the peak and decline of computer games.",
      "metadata": {}
    },
    {
      "cell_type": "code",
      "source": "df_new = df[(df['year_of_release'] > 2004)]",
      "metadata": {},
      "execution_count": 26,
      "outputs": []
    },
    {
      "cell_type": "markdown",
      "source": "2. По отфильтрованному периоду посмотрим на то, как распределились данные по *количеству проданных копий по всем регионам*:",
      "metadata": {}
    },
    {
      "cell_type": "code",
      "source": "total_sales_by_platforms = pd.pivot_table(df_new, values='total_sales', index='year_of_release', columns='platform',\n                    aggfunc=np.sum)\nax = total_sales_by_platforms.plot(xticks=total_sales_by_platforms.index)\nylab = ax.set_ylabel('total_sales')\nplt.legend(bbox_to_anchor=(1.05, 1), loc=2, borderaxespad=0.)\nax.set_title(\"Количество проданных копий (млн.) по всему миру за 10 лет\")\nax.set_ylabel(\"Глобальные продажи (млн.)\")\nax.set_xlabel(\"Год выпуска комп.игры\")\nplt.legend(title = 'Платформы', bbox_to_anchor=(1.05, 1), loc=2, borderaxespad=0.)",
      "metadata": {},
      "execution_count": 27,
      "outputs": [
        {
          "execution_count": 27,
          "output_type": "execute_result",
          "data": {
            "text/plain": [
              "<matplotlib.legend.Legend at 0x7fad7086c710>"
            ]
          },
          "metadata": {}
        },
        {
          "output_type": "display_data",
          "data": {
            "image/png": "[encoded data removed]",
            "text/plain": [
              "<Figure size 432x288 with 1 Axes>"
            ]
          },
          "metadata": {
            "needs_background": "light"
          }
        }
      ]
    },
    {
      "cell_type": "markdown",
      "source": "> * The graph shows that by 2013, as many as 5 platforms cease to release games: DS, PS2, GBA, XB and GC\n> * However, in the same 2013, 2 new platforms appear, subsequently leading in terms of the number of copies sold - XOne and PS4.\n> * You can also highlight the top 5 platforms that by 2016 are leaders in the number of copies sold: PS4, XOne, 3DS, PS3 and WiiU",
      "metadata": {}
    },
    {
      "cell_type": "markdown",
      "source": "3. Let's also check the median number of years for which games are released on a particular platform *for all time*, and then filter out the platforms that *released games in 2016*:",
      "metadata": {}
    },
    {
      "cell_type": "code",
      "source": "df_group_max = df.groupby('platform')['year_of_release'].max() \ndf_group_min = df.groupby('platform')['year_of_release'].min() \ndata_group_total = pd.DataFrame([df_group_max, df_group_min]).T\ndata_group_total['life_period'] = df_group_max - df_group_min\ndata_group_total.set_axis(['max_year', 'min_year', 'life_period'], axis='columns', inplace=True)\ndata_group_total.sort_values('max_year', ascending = False)",
      "metadata": {},
      "execution_count": 28,
      "outputs": [
        {
          "execution_count": 28,
          "output_type": "execute_result",
          "data": {
            "text/html": [
              "<div>\n",
              "<style scoped>\n",
              "    .dataframe tbody tr th:only-of-type {\n",
              "        vertical-align: middle;\n",
              "    }\n",
              "\n",
              "    .dataframe tbody tr th {\n",
              "        vertical-align: top;\n",
              "    }\n",
              "\n",
              "    .dataframe thead th {\n",
              "        text-align: right;\n",
              "    }\n",
              "</style>\n",
              "<table border=\"1\" class=\"dataframe\">\n",
              "  <thead>\n",
              "    <tr style=\"text-align: right;\">\n",
              "      <th></th>\n",
              "      <th>max_year</th>\n",
              "      <th>min_year</th>\n",
              "      <th>life_period</th>\n",
              "    </tr>\n",
              "    <tr>\n",
              "      <th>platform</th>\n",
              "      <th></th>\n",
              "      <th></th>\n",
              "      <th></th>\n",
              "    </tr>\n",
              "  </thead>\n",
              "  <tbody>\n",
              "    <tr>\n",
              "      <td>XOne</td>\n",
              "      <td>2016</td>\n",
              "      <td>2013</td>\n",
              "      <td>3</td>\n",
              "    </tr>\n",
              "    <tr>\n",
              "      <td>3DS</td>\n",
              "      <td>2016</td>\n",
              "      <td>2011</td>\n",
              "      <td>5</td>\n",
              "    </tr>\n",
              "    <tr>\n",
              "      <td>X360</td>\n",
              "      <td>2016</td>\n",
              "      <td>2005</td>\n",
              "      <td>11</td>\n",
              "    </tr>\n",
              "    <tr>\n",
              "      <td>WiiU</td>\n",
              "      <td>2016</td>\n",
              "      <td>2012</td>\n",
              "      <td>4</td>\n",
              "    </tr>\n",
              "    <tr>\n",
              "      <td>Wii</td>\n",
              "      <td>2016</td>\n",
              "      <td>2006</td>\n",
              "      <td>10</td>\n",
              "    </tr>\n",
              "    <tr>\n",
              "      <td>PSV</td>\n",
              "      <td>2016</td>\n",
              "      <td>2011</td>\n",
              "      <td>5</td>\n",
              "    </tr>\n",
              "    <tr>\n",
              "      <td>PC</td>\n",
              "      <td>2016</td>\n",
              "      <td>1985</td>\n",
              "      <td>31</td>\n",
              "    </tr>\n",
              "    <tr>\n",
              "      <td>PS4</td>\n",
              "      <td>2016</td>\n",
              "      <td>2013</td>\n",
              "      <td>3</td>\n",
              "    </tr>\n",
              "    <tr>\n",
              "      <td>PS3</td>\n",
              "      <td>2016</td>\n",
              "      <td>2006</td>\n",
              "      <td>10</td>\n",
              "    </tr>\n",
              "    <tr>\n",
              "      <td>PSP</td>\n",
              "      <td>2015</td>\n",
              "      <td>2004</td>\n",
              "      <td>11</td>\n",
              "    </tr>\n",
              "    <tr>\n",
              "      <td>DS</td>\n",
              "      <td>2013</td>\n",
              "      <td>1985</td>\n",
              "      <td>28</td>\n",
              "    </tr>\n",
              "    <tr>\n",
              "      <td>PS2</td>\n",
              "      <td>2011</td>\n",
              "      <td>2000</td>\n",
              "      <td>11</td>\n",
              "    </tr>\n",
              "    <tr>\n",
              "      <td>DC</td>\n",
              "      <td>2008</td>\n",
              "      <td>1998</td>\n",
              "      <td>10</td>\n",
              "    </tr>\n",
              "    <tr>\n",
              "      <td>XB</td>\n",
              "      <td>2008</td>\n",
              "      <td>2000</td>\n",
              "      <td>8</td>\n",
              "    </tr>\n",
              "    <tr>\n",
              "      <td>GBA</td>\n",
              "      <td>2007</td>\n",
              "      <td>2000</td>\n",
              "      <td>7</td>\n",
              "    </tr>\n",
              "    <tr>\n",
              "      <td>GC</td>\n",
              "      <td>2007</td>\n",
              "      <td>2001</td>\n",
              "      <td>6</td>\n",
              "    </tr>\n",
              "    <tr>\n",
              "      <td>PS</td>\n",
              "      <td>2003</td>\n",
              "      <td>1994</td>\n",
              "      <td>9</td>\n",
              "    </tr>\n",
              "    <tr>\n",
              "      <td>N64</td>\n",
              "      <td>2002</td>\n",
              "      <td>1996</td>\n",
              "      <td>6</td>\n",
              "    </tr>\n",
              "    <tr>\n",
              "      <td>WS</td>\n",
              "      <td>2001</td>\n",
              "      <td>1999</td>\n",
              "      <td>2</td>\n",
              "    </tr>\n",
              "    <tr>\n",
              "      <td>GB</td>\n",
              "      <td>2001</td>\n",
              "      <td>1988</td>\n",
              "      <td>13</td>\n",
              "    </tr>\n",
              "    <tr>\n",
              "      <td>SAT</td>\n",
              "      <td>1999</td>\n",
              "      <td>1994</td>\n",
              "      <td>5</td>\n",
              "    </tr>\n",
              "    <tr>\n",
              "      <td>SNES</td>\n",
              "      <td>1999</td>\n",
              "      <td>1990</td>\n",
              "      <td>9</td>\n",
              "    </tr>\n",
              "    <tr>\n",
              "      <td>PCFX</td>\n",
              "      <td>1996</td>\n",
              "      <td>1996</td>\n",
              "      <td>0</td>\n",
              "    </tr>\n",
              "    <tr>\n",
              "      <td>NG</td>\n",
              "      <td>1996</td>\n",
              "      <td>1993</td>\n",
              "      <td>3</td>\n",
              "    </tr>\n",
              "    <tr>\n",
              "      <td>3DO</td>\n",
              "      <td>1995</td>\n",
              "      <td>1994</td>\n",
              "      <td>1</td>\n",
              "    </tr>\n",
              "    <tr>\n",
              "      <td>TG16</td>\n",
              "      <td>1995</td>\n",
              "      <td>1995</td>\n",
              "      <td>0</td>\n",
              "    </tr>\n",
              "    <tr>\n",
              "      <td>NES</td>\n",
              "      <td>1994</td>\n",
              "      <td>1983</td>\n",
              "      <td>11</td>\n",
              "    </tr>\n",
              "    <tr>\n",
              "      <td>SCD</td>\n",
              "      <td>1994</td>\n",
              "      <td>1993</td>\n",
              "      <td>1</td>\n",
              "    </tr>\n",
              "    <tr>\n",
              "      <td>GEN</td>\n",
              "      <td>1994</td>\n",
              "      <td>1990</td>\n",
              "      <td>4</td>\n",
              "    </tr>\n",
              "    <tr>\n",
              "      <td>GG</td>\n",
              "      <td>1992</td>\n",
              "      <td>1992</td>\n",
              "      <td>0</td>\n",
              "    </tr>\n",
              "    <tr>\n",
              "      <td>2600</td>\n",
              "      <td>1989</td>\n",
              "      <td>1980</td>\n",
              "      <td>9</td>\n",
              "    </tr>\n",
              "  </tbody>\n",
              "</table>\n",
              "</div>"
            ],
            "text/plain": [
              "          max_year  min_year  life_period\n",
              "platform                                 \n",
              "XOne          2016      2013            3\n",
              "3DS           2016      2011            5\n",
              "X360          2016      2005           11\n",
              "WiiU          2016      2012            4\n",
              "Wii           2016      2006           10\n",
              "PSV           2016      2011            5\n",
              "PC            2016      1985           31\n",
              "PS4           2016      2013            3\n",
              "PS3           2016      2006           10\n",
              "PSP           2015      2004           11\n",
              "DS            2013      1985           28\n",
              "PS2           2011      2000           11\n",
              "DC            2008      1998           10\n",
              "XB            2008      2000            8\n",
              "GBA           2007      2000            7\n",
              "GC            2007      2001            6\n",
              "PS            2003      1994            9\n",
              "N64           2002      1996            6\n",
              "WS            2001      1999            2\n",
              "GB            2001      1988           13\n",
              "SAT           1999      1994            5\n",
              "SNES          1999      1990            9\n",
              "PCFX          1996      1996            0\n",
              "NG            1996      1993            3\n",
              "3DO           1995      1994            1\n",
              "TG16          1995      1995            0\n",
              "NES           1994      1983           11\n",
              "SCD           1994      1993            1\n",
              "GEN           1994      1990            4\n",
              "GG            1992      1992            0\n",
              "2600          1989      1980            9"
            ]
          },
          "metadata": {}
        }
      ]
    },
    {
      "cell_type": "code",
      "source": "print('Медианный срок жизни платформ, выпускающих игры за всё время:', data_group_total['life_period'].median())",
      "metadata": {},
      "execution_count": 29,
      "outputs": [
        {
          "name": "stdout",
          "output_type": "stream",
          "text": "Медианный срок жизни платформ, выпускающих игры за всё время: 6.0\n"
        }
      ]
    },
    {
      "cell_type": "markdown",
      "source": "Let's look at platforms with games released in 2016:",
      "metadata": {}
    },
    {
      "cell_type": "code",
      "source": "data_group_total_2016 = data_group_total.query('max_year == 2016')\nprint('Медианный срок жизни платформ, выпускающих игры в 2016 году:', data_group_total_2016['life_period'].median())",
      "metadata": {},
      "execution_count": 30,
      "outputs": [
        {
          "name": "stdout",
          "output_type": "stream",
          "text": "Медианный срок жизни платформ, выпускающих игры в 2016 году: 5.0\n"
        }
      ]
    },
    {
      "cell_type": "markdown",
      "source": "> * Based on the median, it is necessary to start counting from 2012. However, based on the graph above, by 2012, one of the platforms will stop releasing games, and activity of many platforms will begin to decline.\n> * Based on all the above factors, for the **actual period** we take the data **from 2013 to 2016**.",
      "metadata": {}
    },
    {
      "cell_type": "code",
      "source": "df_actual = df_new[(df_new['year_of_release'] > 2012)]\ndf_actual['year_of_release'].unique()",
      "metadata": {},
      "execution_count": 31,
      "outputs": [
        {
          "execution_count": 31,
          "output_type": "execute_result",
          "data": {
            "text/plain": [
              "array([2013, 2015, 2014, 2016])"
            ]
          },
          "metadata": {}
        }
      ]
    },
    {
      "cell_type": "markdown",
      "source": "####  Selection of profitable platforms",
      "metadata": {}
    },
    {
      "cell_type": "markdown",
      "source": "Previously, we have already mentioned the top 5 platforms in terms of the number of copies sold worldwide. Let's look at the dynamics of sales again, discarding irrelevant data:",
      "metadata": {}
    },
    {
      "cell_type": "code",
      "source": "df1 = pd.pivot_table(df_actual, values='total_sales', index='year_of_release', columns='platform',\n                    aggfunc=np.sum)\ndf2 = pd.pivot_table(df_actual, values='total_sales', index='platform',\n                   aggfunc=np.sum)\n\nfig, axes = plt.subplots(nrows = 1, ncols = 2, figsize=(15, 5))\n\ndf1.plot(xticks=df1.index, ax=axes[0])\naxes[0].set_title(\"Количество проданных копий (млн.) \\n по всему миру в течение 4-х лет\")\naxes[0].set_ylabel(\"Глобальные продажи (млн.)\")\naxes[0].set_xlabel(\"Год выпуска комп.игры\")\n\nax2 = df2.sort_values('total_sales', ascending=False).head(5).plot.pie(autopct=\"%.1f%%\", subplots=True, ax=axes[1])\nplt.legend(title = 'Платформы', bbox_to_anchor=(1.05, 1), loc=2, borderaxespad=0.)\nplt.title('Количество проданных \\n копий (%) на платформе')",
      "metadata": {},
      "execution_count": 32,
      "outputs": [
        {
          "execution_count": 32,
          "output_type": "execute_result",
          "data": {
            "text/plain": [
              "Text(0.5, 1.0, 'Количество проданных \\n копий (%) на платформе')"
            ]
          },
          "metadata": {}
        },
        {
          "output_type": "display_data",
          "data": {
            "image/png": "[encoded data removed]",
            "text/plain": [
              "<Figure size 1080x360 with 2 Axes>"
            ]
          },
          "metadata": {
            "needs_background": "light"
          }
        }
      ]
    },
    {
      "cell_type": "markdown",
      "source": "> * The PS4 platform as a whole occupies the largest share of all games sold (33%), XOne - 17%. In addition, the graph above shows that these two platforms, unlike the others, significantly increased the number of games sold (million) by 2015.\n> * What can not be said about the platforms 3DS, PS3 and X360 - their performance in 2015 is rapidly falling. The situation with PS3 is quite logical - since it is an outdated version of PS4\n> * There are platforms that are not in the top 5 in sales worldwide, but their performance is stable over time - WiiU and PC (personal computer). The result on PC is also explainable: a platform that is not subject to updates, and also has a large number of people.\n> * *Thus, potentially profitable platforms are: PS4, 3DS, WiiU, XOne, PC*",
      "metadata": {}
    },
    {
      "cell_type": "code",
      "source": "df_actual.pivot_table(index='year_of_release', columns='platform', values='total_sales', aggfunc='sum')",
      "metadata": {},
      "execution_count": 33,
      "outputs": [
        {
          "execution_count": 33,
          "output_type": "execute_result",
          "data": {
            "text/html": [
              "<div>\n",
              "<style scoped>\n",
              "    .dataframe tbody tr th:only-of-type {\n",
              "        vertical-align: middle;\n",
              "    }\n",
              "\n",
              "    .dataframe tbody tr th {\n",
              "        vertical-align: top;\n",
              "    }\n",
              "\n",
              "    .dataframe thead th {\n",
              "        text-align: right;\n",
              "    }\n",
              "</style>\n",
              "<table border=\"1\" class=\"dataframe\">\n",
              "  <thead>\n",
              "    <tr style=\"text-align: right;\">\n",
              "      <th>platform</th>\n",
              "      <th>3DS</th>\n",
              "      <th>DS</th>\n",
              "      <th>PC</th>\n",
              "      <th>PS3</th>\n",
              "      <th>PS4</th>\n",
              "      <th>PSP</th>\n",
              "      <th>PSV</th>\n",
              "      <th>Wii</th>\n",
              "      <th>WiiU</th>\n",
              "      <th>X360</th>\n",
              "      <th>XOne</th>\n",
              "    </tr>\n",
              "    <tr>\n",
              "      <th>year_of_release</th>\n",
              "      <th></th>\n",
              "      <th></th>\n",
              "      <th></th>\n",
              "      <th></th>\n",
              "      <th></th>\n",
              "      <th></th>\n",
              "      <th></th>\n",
              "      <th></th>\n",
              "      <th></th>\n",
              "      <th></th>\n",
              "      <th></th>\n",
              "    </tr>\n",
              "  </thead>\n",
              "  <tbody>\n",
              "    <tr>\n",
              "      <td>2013</td>\n",
              "      <td>56.57</td>\n",
              "      <td>1.54</td>\n",
              "      <td>12.38</td>\n",
              "      <td>113.25</td>\n",
              "      <td>25.99</td>\n",
              "      <td>3.14</td>\n",
              "      <td>10.59</td>\n",
              "      <td>8.59</td>\n",
              "      <td>21.65</td>\n",
              "      <td>88.58</td>\n",
              "      <td>18.96</td>\n",
              "    </tr>\n",
              "    <tr>\n",
              "      <td>2014</td>\n",
              "      <td>43.76</td>\n",
              "      <td>NaN</td>\n",
              "      <td>13.28</td>\n",
              "      <td>47.76</td>\n",
              "      <td>100.00</td>\n",
              "      <td>0.24</td>\n",
              "      <td>11.90</td>\n",
              "      <td>3.75</td>\n",
              "      <td>22.03</td>\n",
              "      <td>34.74</td>\n",
              "      <td>54.07</td>\n",
              "    </tr>\n",
              "    <tr>\n",
              "      <td>2015</td>\n",
              "      <td>27.78</td>\n",
              "      <td>NaN</td>\n",
              "      <td>8.52</td>\n",
              "      <td>16.82</td>\n",
              "      <td>118.90</td>\n",
              "      <td>0.12</td>\n",
              "      <td>6.25</td>\n",
              "      <td>1.14</td>\n",
              "      <td>16.35</td>\n",
              "      <td>11.96</td>\n",
              "      <td>60.14</td>\n",
              "    </tr>\n",
              "    <tr>\n",
              "      <td>2016</td>\n",
              "      <td>15.14</td>\n",
              "      <td>NaN</td>\n",
              "      <td>5.25</td>\n",
              "      <td>3.60</td>\n",
              "      <td>69.25</td>\n",
              "      <td>NaN</td>\n",
              "      <td>4.25</td>\n",
              "      <td>0.18</td>\n",
              "      <td>4.60</td>\n",
              "      <td>1.52</td>\n",
              "      <td>26.15</td>\n",
              "    </tr>\n",
              "  </tbody>\n",
              "</table>\n",
              "</div>"
            ],
            "text/plain": [
              "platform           3DS    DS     PC     PS3     PS4   PSP    PSV   Wii   WiiU  \\\n",
              "year_of_release                                                                 \n",
              "2013             56.57  1.54  12.38  113.25   25.99  3.14  10.59  8.59  21.65   \n",
              "2014             43.76   NaN  13.28   47.76  100.00  0.24  11.90  3.75  22.03   \n",
              "2015             27.78   NaN   8.52   16.82  118.90  0.12   6.25  1.14  16.35   \n",
              "2016             15.14   NaN   5.25    3.60   69.25   NaN   4.25  0.18   4.60   \n",
              "\n",
              "platform          X360   XOne  \n",
              "year_of_release                \n",
              "2013             88.58  18.96  \n",
              "2014             34.74  54.07  \n",
              "2015             11.96  60.14  \n",
              "2016              1.52  26.15  "
            ]
          },
          "metadata": {}
        }
      ]
    },
    {
      "cell_type": "markdown",
      "source": "#### Analysis of popular platforms",
      "metadata": {}
    },
    {
      "cell_type": "code",
      "source": "top_5_platforms = df_actual.loc[df_actual['platform'].isin(['PS4', '3DS', 'XOne', 'WiiU', 'PC'])]",
      "metadata": {},
      "execution_count": 34,
      "outputs": []
    },
    {
      "cell_type": "code",
      "source": "((len(top_5_platforms.loc[top_5_platforms['user_score'] == -1]))*100) / len(top_5_platforms)",
      "metadata": {},
      "execution_count": 35,
      "outputs": [
        {
          "execution_count": 35,
          "output_type": "execute_result",
          "data": {
            "text/plain": [
              "4.173354735152488"
            ]
          },
          "metadata": {}
        }
      ]
    },
    {
      "cell_type": "code",
      "source": "top_5_platforms_no_tbd = top_5_platforms.loc[top_5_platforms['user_score'] != -1]",
      "metadata": {},
      "execution_count": 36,
      "outputs": []
    },
    {
      "cell_type": "code",
      "source": "plt.figure(figsize=(10, 6))\nsns.boxplot(x=\"platform\", y=\"total_sales\", data=top_5_platforms_no_tbd)\nplt.ylim([-2,10])\nplt.title('Диаграммы размаха')\nplt.xlabel('Платформа')\nplt.ylabel('Глобальные продажи (млн.)')\nplt.grid()\nplt.tight_layout()",
      "metadata": {},
      "execution_count": 37,
      "outputs": [
        {
          "output_type": "display_data",
          "data": {
            "image/png": "[encoded data removed]",
            "text/plain": [
              "<Figure size 720x432 with 1 Axes>"
            ]
          },
          "metadata": {
            "needs_background": "light"
          }
        }
      ]
    },
    {
      "cell_type": "markdown",
      "source": "> * Selected platforms have many sales outliers of different frequency. However, almost all platforms (except PC) have rare values beyond the mark of 6 million copies sold.",
      "metadata": {}
    },
    {
      "cell_type": "markdown",
      "source": "**1. Do reviews from users and critics affect sales within one popular platform - PS4?****",
      "metadata": {}
    },
    {
      "cell_type": "markdown",
      "source": "* H0: no relationship between reviews and sales\n* H1: there is a connection",
      "metadata": {}
    },
    {
      "cell_type": "code",
      "source": "top_platform_PS4 = top_5_platforms_no_tbd.loc[top_5_platforms_no_tbd['platform'] == 'PS4']",
      "metadata": {},
      "execution_count": 38,
      "outputs": []
    },
    {
      "cell_type": "code",
      "source": "fig, axes = plt.subplots(nrows=1, ncols=3, figsize=(12,6))\ntop_platform_PS4[['total_sales']].boxplot(ax=axes[0])\ntop_platform_PS4[['user_score']].boxplot(ax=axes[1])\ntop_platform_PS4[['critic_score']].boxplot(ax=axes[2])\nfig.suptitle('Диаграммы размаха: PS4', fontsize=14)",
      "metadata": {},
      "execution_count": 39,
      "outputs": [
        {
          "execution_count": 39,
          "output_type": "execute_result",
          "data": {
            "text/plain": [
              "Text(0.5, 0.98, 'Диаграммы размаха: PS4')"
            ]
          },
          "metadata": {}
        },
        {
          "output_type": "display_data",
          "data": {
            "image/png": "[encoded data removed]",
            "text/plain": [
              "<Figure size 864x432 with 3 Axes>"
            ]
          },
          "metadata": {
            "needs_background": "light"
          }
        }
      ]
    },
    {
      "cell_type": "markdown",
      "source": "1. `total_sales` contains rare outliers;\n2. The distribution of `user_score` and `critic_score` is strongly biased towards 0, because most of the categories here are `na` replaced by 0\n \nLet's filter out these 0's and get rid of outliers:",
      "metadata": {}
    },
    {
      "cell_type": "code",
      "source": "top_platform_PS4 = top_platform_PS4[top_platform_PS4['total_sales'] < 5]",
      "metadata": {},
      "execution_count": 40,
      "outputs": []
    },
    {
      "cell_type": "code",
      "source": "top_platform_PS4_no_0 = top_platform_PS4[top_platform_PS4['critic_score'] > 0]\ntop_platform_PS4_no_0 = top_platform_PS4_no_0[top_platform_PS4_no_0['user_score'] > 0]",
      "metadata": {},
      "execution_count": 41,
      "outputs": []
    },
    {
      "cell_type": "code",
      "source": "top_platform_PS4_no_0[['total_sales', 'critic_score', 'user_score']].describe()",
      "metadata": {},
      "execution_count": 42,
      "outputs": [
        {
          "execution_count": 42,
          "output_type": "execute_result",
          "data": {
            "text/html": [
              "<div>\n",
              "<style scoped>\n",
              "    .dataframe tbody tr th:only-of-type {\n",
              "        vertical-align: middle;\n",
              "    }\n",
              "\n",
              "    .dataframe tbody tr th {\n",
              "        vertical-align: top;\n",
              "    }\n",
              "\n",
              "    .dataframe thead th {\n",
              "        text-align: right;\n",
              "    }\n",
              "</style>\n",
              "<table border=\"1\" class=\"dataframe\">\n",
              "  <thead>\n",
              "    <tr style=\"text-align: right;\">\n",
              "      <th></th>\n",
              "      <th>total_sales</th>\n",
              "      <th>critic_score</th>\n",
              "      <th>user_score</th>\n",
              "    </tr>\n",
              "  </thead>\n",
              "  <tbody>\n",
              "    <tr>\n",
              "      <td>count</td>\n",
              "      <td>241.000000</td>\n",
              "      <td>241.000000</td>\n",
              "      <td>241.000000</td>\n",
              "    </tr>\n",
              "    <tr>\n",
              "      <td>mean</td>\n",
              "      <td>0.761535</td>\n",
              "      <td>71.684647</td>\n",
              "      <td>6.768465</td>\n",
              "    </tr>\n",
              "    <tr>\n",
              "      <td>std</td>\n",
              "      <td>1.067316</td>\n",
              "      <td>12.458269</td>\n",
              "      <td>1.457681</td>\n",
              "    </tr>\n",
              "    <tr>\n",
              "      <td>min</td>\n",
              "      <td>0.010000</td>\n",
              "      <td>19.000000</td>\n",
              "      <td>1.500000</td>\n",
              "    </tr>\n",
              "    <tr>\n",
              "      <td>25%</td>\n",
              "      <td>0.070000</td>\n",
              "      <td>66.000000</td>\n",
              "      <td>6.200000</td>\n",
              "    </tr>\n",
              "    <tr>\n",
              "      <td>50%</td>\n",
              "      <td>0.260000</td>\n",
              "      <td>73.000000</td>\n",
              "      <td>7.100000</td>\n",
              "    </tr>\n",
              "    <tr>\n",
              "      <td>75%</td>\n",
              "      <td>0.930000</td>\n",
              "      <td>80.000000</td>\n",
              "      <td>7.800000</td>\n",
              "    </tr>\n",
              "    <tr>\n",
              "      <td>max</td>\n",
              "      <td>4.620000</td>\n",
              "      <td>93.000000</td>\n",
              "      <td>9.200000</td>\n",
              "    </tr>\n",
              "  </tbody>\n",
              "</table>\n",
              "</div>"
            ],
            "text/plain": [
              "       total_sales  critic_score  user_score\n",
              "count   241.000000    241.000000  241.000000\n",
              "mean      0.761535     71.684647    6.768465\n",
              "std       1.067316     12.458269    1.457681\n",
              "min       0.010000     19.000000    1.500000\n",
              "25%       0.070000     66.000000    6.200000\n",
              "50%       0.260000     73.000000    7.100000\n",
              "75%       0.930000     80.000000    7.800000\n",
              "max       4.620000     93.000000    9.200000"
            ]
          },
          "metadata": {}
        }
      ]
    },
    {
      "cell_type": "markdown",
      "source": "* The standard deviation of user and critic ratings is small - the values in the set are grouped around the average (6.7 and 71.6, respectively).\n* There is a shift to the right of zero in the sales data - these are the most popular games.",
      "metadata": {}
    },
    {
      "cell_type": "markdown",
      "source": "Let's look at the scatterplots:",
      "metadata": {}
    },
    {
      "cell_type": "code",
      "source": "fig, axes = plt.subplots(nrows=1, ncols=2, figsize=(12,3))\ntop_platform_PS4_no_0.plot(x='critic_score', y='total_sales', kind='scatter', alpha=0.3, ax=axes[0]) \ntop_platform_PS4_no_0.plot(x='user_score', y='total_sales', kind='scatter', alpha=0.3, ax=axes[1], color='orange')\naxes[0].set_xlabel(\"Оценка критиков\")\naxes[0].set_ylabel(\"Глобальные продажи (млн.)\")\naxes[1].set_xlabel(\"Оценка пользователей\")\naxes[1].set_ylabel(\"Глобальные продажи (млн.)\")\nfig.suptitle('Диаграммы рассеяния: PS4', fontsize=14)",
      "metadata": {},
      "execution_count": 42,
      "outputs": [
        {
          "execution_count": 42,
          "output_type": "execute_result",
          "data": {
            "text/plain": [
              "Text(0.5, 0.98, 'Диаграммы рассеяния: PS4')"
            ]
          },
          "metadata": {}
        },
        {
          "output_type": "display_data",
          "data": {
            "image/png": "[encoded data removed]",
            "text/plain": [
              "<Figure size 864x216 with 2 Axes>"
            ]
          },
          "metadata": {
            "needs_background": "light"
          }
        }
      ]
    },
    {
      "cell_type": "markdown",
      "source": "Judging by the charts, critics' scores are associated with sales growth. However, let's also look at the correlation coefficient by applying the non-parametric Spearman test.\n\nThis criterion is more resistant to uneven distribution.",
      "metadata": {}
    },
    {
      "cell_type": "markdown",
      "source": "Let's check the correlations on the test sample:",
      "metadata": {}
    },
    {
      "cell_type": "code",
      "source": "from scipy.stats import spearmanr",
      "metadata": {},
      "execution_count": 43,
      "outputs": []
    },
    {
      "cell_type": "code",
      "source": "spearmanr(top_platform_PS4_no_0['critic_score'], top_platform_PS4_no_0['total_sales']) ",
      "metadata": {},
      "execution_count": 44,
      "outputs": [
        {
          "execution_count": 44,
          "output_type": "execute_result",
          "data": {
            "text/plain": [
              "SpearmanrResult(correlation=0.4755006264705899, pvalue=5.33277620236531e-15)"
            ]
          },
          "metadata": {}
        }
      ]
    },
    {
      "cell_type": "code",
      "source": "spearmanr(top_platform_PS4_no_0['user_score'], top_platform_PS4_no_0['total_sales']) ",
      "metadata": {},
      "execution_count": 45,
      "outputs": [
        {
          "execution_count": 45,
          "output_type": "execute_result",
          "data": {
            "text/plain": [
              "SpearmanrResult(correlation=-0.004829377346965932, pvalue=0.9405467062111337)"
            ]
          },
          "metadata": {}
        }
      ]
    },
    {
      "cell_type": "markdown",
      "source": "> * According to the Spearman coefficient, there is a positive relationship between critics' scores `critic_score` and sales volume `total_sales` - it was not possible to accept the hypothesis H0;\n> * However, there is no connection between the ratings of ordinary users `user_score` and the volume of sales `total_sales` - we accept the hypothesis H0.",
      "metadata": {}
    },
    {
      "cell_type": "markdown",
      "source": "**2. Do reviews from users and critics affect sales within other popular platforms?**",
      "metadata": {}
    },
    {
      "cell_type": "markdown",
      "source": "Let's carry out a similar analysis for other platforms:\n\n* H0: no relationship between reviews and sales\n* H1: there is a connection",
      "metadata": {}
    },
    {
      "cell_type": "code",
      "source": "other_platforms = top_5_platforms_no_tbd.loc[top_5_platforms_no_tbd['platform'] != 'PS4']",
      "metadata": {},
      "execution_count": 46,
      "outputs": []
    },
    {
      "cell_type": "code",
      "source": "fig, axes = plt.subplots(nrows=1, ncols=3, figsize=(12,6))\n\nother_platforms[['total_sales']].boxplot(ax=axes[0])\nother_platforms[['user_score']].boxplot(ax=axes[1])\nother_platforms[['critic_score']].boxplot(ax=axes[2])\nfig.suptitle('Диаграммы размаха: 3DS, XOne, WiiU, PC', fontsize=14)",
      "metadata": {},
      "execution_count": 47,
      "outputs": [
        {
          "execution_count": 47,
          "output_type": "execute_result",
          "data": {
            "text/plain": [
              "Text(0.5, 0.98, 'Диаграммы размаха: 3DS, XOne, WiiU, PC')"
            ]
          },
          "metadata": {}
        },
        {
          "output_type": "display_data",
          "data": {
            "image/png": "[encoded data removed]",
            "text/plain": [
              "<Figure size 864x432 with 3 Axes>"
            ]
          },
          "metadata": {
            "needs_background": "light"
          }
        }
      ]
    },
    {
      "cell_type": "code",
      "source": "other_platforms = other_platforms[other_platforms['total_sales'] < 6]",
      "metadata": {},
      "execution_count": 48,
      "outputs": []
    },
    {
      "cell_type": "code",
      "source": "other_platforms_no_0 = other_platforms[other_platforms['critic_score'] > 0]\nother_platforms_no_0 = other_platforms_no_0[other_platforms_no_0['user_score'] > 0]",
      "metadata": {},
      "execution_count": 49,
      "outputs": []
    },
    {
      "cell_type": "code",
      "source": "other_platforms_no_0[['total_sales', 'critic_score', 'user_score']].describe()",
      "metadata": {},
      "execution_count": 50,
      "outputs": [
        {
          "execution_count": 50,
          "output_type": "execute_result",
          "data": {
            "text/html": [
              "<div>\n",
              "<style scoped>\n",
              "    .dataframe tbody tr th:only-of-type {\n",
              "        vertical-align: middle;\n",
              "    }\n",
              "\n",
              "    .dataframe tbody tr th {\n",
              "        vertical-align: top;\n",
              "    }\n",
              "\n",
              "    .dataframe thead th {\n",
              "        text-align: right;\n",
              "    }\n",
              "</style>\n",
              "<table border=\"1\" class=\"dataframe\">\n",
              "  <thead>\n",
              "    <tr style=\"text-align: right;\">\n",
              "      <th></th>\n",
              "      <th>total_sales</th>\n",
              "      <th>critic_score</th>\n",
              "      <th>user_score</th>\n",
              "    </tr>\n",
              "  </thead>\n",
              "  <tbody>\n",
              "    <tr>\n",
              "      <td>count</td>\n",
              "      <td>448.000000</td>\n",
              "      <td>448.000000</td>\n",
              "      <td>448.000000</td>\n",
              "    </tr>\n",
              "    <tr>\n",
              "      <td>mean</td>\n",
              "      <td>0.556339</td>\n",
              "      <td>73.258929</td>\n",
              "      <td>6.656696</td>\n",
              "    </tr>\n",
              "    <tr>\n",
              "      <td>std</td>\n",
              "      <td>0.858867</td>\n",
              "      <td>12.468122</td>\n",
              "      <td>1.504118</td>\n",
              "    </tr>\n",
              "    <tr>\n",
              "      <td>min</td>\n",
              "      <td>0.010000</td>\n",
              "      <td>20.000000</td>\n",
              "      <td>1.400000</td>\n",
              "    </tr>\n",
              "    <tr>\n",
              "      <td>25%</td>\n",
              "      <td>0.067500</td>\n",
              "      <td>67.000000</td>\n",
              "      <td>5.800000</td>\n",
              "    </tr>\n",
              "    <tr>\n",
              "      <td>50%</td>\n",
              "      <td>0.230000</td>\n",
              "      <td>75.000000</td>\n",
              "      <td>6.900000</td>\n",
              "    </tr>\n",
              "    <tr>\n",
              "      <td>75%</td>\n",
              "      <td>0.630000</td>\n",
              "      <td>82.000000</td>\n",
              "      <td>7.800000</td>\n",
              "    </tr>\n",
              "    <tr>\n",
              "      <td>max</td>\n",
              "      <td>5.470000</td>\n",
              "      <td>97.000000</td>\n",
              "      <td>9.300000</td>\n",
              "    </tr>\n",
              "  </tbody>\n",
              "</table>\n",
              "</div>"
            ],
            "text/plain": [
              "       total_sales  critic_score  user_score\n",
              "count   448.000000    448.000000  448.000000\n",
              "mean      0.556339     73.258929    6.656696\n",
              "std       0.858867     12.468122    1.504118\n",
              "min       0.010000     20.000000    1.400000\n",
              "25%       0.067500     67.000000    5.800000\n",
              "50%       0.230000     75.000000    6.900000\n",
              "75%       0.630000     82.000000    7.800000\n",
              "max       5.470000     97.000000    9.300000"
            ]
          },
          "metadata": {}
        }
      ]
    },
    {
      "cell_type": "markdown",
      "source": "Similar to the most popular platform, here we see a small spread in ratings from critics and users, and a shift to the right from zero within sales.",
      "metadata": {}
    },
    {
      "cell_type": "markdown",
      "source": "Let's create scatterplots and conduct a non-parametric test:",
      "metadata": {}
    },
    {
      "cell_type": "code",
      "source": "fig, axes = plt.subplots(nrows=1, ncols=2, figsize=(12,3))\nother_platforms_no_0.plot(x='critic_score', y='total_sales', kind='scatter', alpha=0.3, ax=axes[0]) \nother_platforms_no_0.plot(x='user_score', y='total_sales', kind='scatter', alpha=0.3, ax=axes[1], color='orange')\naxes[0].set_xlabel(\"Оценка пользователей\")\naxes[0].set_ylabel(\"Глобальные продажи (млн.)\")\naxes[1].set_xlabel(\"Оценка критиков\")\naxes[1].set_ylabel(\"Глобальные продажи (млн.)\")\nfig.suptitle('Диаграммы рассеяния: 3DS, XOne, WiiU, PC', fontsize=14)",
      "metadata": {},
      "execution_count": 51,
      "outputs": [
        {
          "execution_count": 51,
          "output_type": "execute_result",
          "data": {
            "text/plain": [
              "Text(0.5, 0.98, 'Диаграммы рассеяния: 3DS, XOne, WiiU, PC')"
            ]
          },
          "metadata": {}
        },
        {
          "output_type": "display_data",
          "data": {
            "image/png": "[encoded data removed]",
            "text/plain": [
              "<Figure size 864x216 with 2 Axes>"
            ]
          },
          "metadata": {
            "needs_background": "light"
          }
        }
      ]
    },
    {
      "cell_type": "code",
      "source": "spearmanr(other_platforms_no_0['critic_score'], other_platforms_no_0['total_sales']) ",
      "metadata": {},
      "execution_count": 52,
      "outputs": [
        {
          "execution_count": 52,
          "output_type": "execute_result",
          "data": {
            "text/plain": [
              "SpearmanrResult(correlation=0.3599219586045258, pvalue=3.78526106531584e-15)"
            ]
          },
          "metadata": {}
        }
      ]
    },
    {
      "cell_type": "code",
      "source": "spearmanr(other_platforms_no_0['user_score'], other_platforms_no_0['total_sales']) ",
      "metadata": {},
      "execution_count": 53,
      "outputs": [
        {
          "execution_count": 53,
          "output_type": "execute_result",
          "data": {
            "text/plain": [
              "SpearmanrResult(correlation=0.043655125841282956, pvalue=0.3566000734628997)"
            ]
          },
          "metadata": {}
        }
      ]
    },
    {
      "cell_type": "markdown",
      "source": "> * Critics' scores are also weakly and positively correlated with sales volumes across the following platforms: 3DS, XOne, WiiU, PC. In the case of user ratings, there is no connection. However, we do not have enough reason to accept H0 about the lack of relationship between ratings (in this case by critics) and sales. Also, there are fewer critics and they rarely give low marks.\n",
      "metadata": {}
    },
    {
      "cell_type": "markdown",
      "source": "**3. Are there any differences between genres among popular platforms?**",
      "metadata": {}
    },
    {
      "cell_type": "code",
      "source": "top_5_platforms_genre = pd.pivot_table(top_5_platforms, values=['name', 'total_sales'], \n                                index=['genre'], aggfunc={'name': 'count',\n                             'total_sales': 'median'})\ntop_5_platforms_genre.sort_values('total_sales', ascending=False)",
      "metadata": {},
      "execution_count": 54,
      "outputs": [
        {
          "execution_count": 54,
          "output_type": "execute_result",
          "data": {
            "text/html": [
              "<div>\n",
              "<style scoped>\n",
              "    .dataframe tbody tr th:only-of-type {\n",
              "        vertical-align: middle;\n",
              "    }\n",
              "\n",
              "    .dataframe tbody tr th {\n",
              "        vertical-align: top;\n",
              "    }\n",
              "\n",
              "    .dataframe thead th {\n",
              "        text-align: right;\n",
              "    }\n",
              "</style>\n",
              "<table border=\"1\" class=\"dataframe\">\n",
              "  <thead>\n",
              "    <tr style=\"text-align: right;\">\n",
              "      <th></th>\n",
              "      <th>name</th>\n",
              "      <th>total_sales</th>\n",
              "    </tr>\n",
              "    <tr>\n",
              "      <th>genre</th>\n",
              "      <th></th>\n",
              "      <th></th>\n",
              "    </tr>\n",
              "  </thead>\n",
              "  <tbody>\n",
              "    <tr>\n",
              "      <td>Shooter</td>\n",
              "      <td>120</td>\n",
              "      <td>0.495</td>\n",
              "    </tr>\n",
              "    <tr>\n",
              "      <td>Sports</td>\n",
              "      <td>110</td>\n",
              "      <td>0.275</td>\n",
              "    </tr>\n",
              "    <tr>\n",
              "      <td>Platform</td>\n",
              "      <td>49</td>\n",
              "      <td>0.260</td>\n",
              "    </tr>\n",
              "    <tr>\n",
              "      <td>Role-Playing</td>\n",
              "      <td>150</td>\n",
              "      <td>0.190</td>\n",
              "    </tr>\n",
              "    <tr>\n",
              "      <td>Fighting</td>\n",
              "      <td>38</td>\n",
              "      <td>0.155</td>\n",
              "    </tr>\n",
              "    <tr>\n",
              "      <td>Misc</td>\n",
              "      <td>93</td>\n",
              "      <td>0.120</td>\n",
              "    </tr>\n",
              "    <tr>\n",
              "      <td>Racing</td>\n",
              "      <td>57</td>\n",
              "      <td>0.120</td>\n",
              "    </tr>\n",
              "    <tr>\n",
              "      <td>Action</td>\n",
              "      <td>443</td>\n",
              "      <td>0.110</td>\n",
              "    </tr>\n",
              "    <tr>\n",
              "      <td>Simulation</td>\n",
              "      <td>47</td>\n",
              "      <td>0.100</td>\n",
              "    </tr>\n",
              "    <tr>\n",
              "      <td>Puzzle</td>\n",
              "      <td>14</td>\n",
              "      <td>0.085</td>\n",
              "    </tr>\n",
              "    <tr>\n",
              "      <td>Strategy</td>\n",
              "      <td>42</td>\n",
              "      <td>0.080</td>\n",
              "    </tr>\n",
              "    <tr>\n",
              "      <td>Adventure</td>\n",
              "      <td>83</td>\n",
              "      <td>0.060</td>\n",
              "    </tr>\n",
              "  </tbody>\n",
              "</table>\n",
              "</div>"
            ],
            "text/plain": [
              "              name  total_sales\n",
              "genre                          \n",
              "Shooter        120        0.495\n",
              "Sports         110        0.275\n",
              "Platform        49        0.260\n",
              "Role-Playing   150        0.190\n",
              "Fighting        38        0.155\n",
              "Misc            93        0.120\n",
              "Racing          57        0.120\n",
              "Action         443        0.110\n",
              "Simulation      47        0.100\n",
              "Puzzle          14        0.085\n",
              "Strategy        42        0.080\n",
              "Adventure       83        0.060"
            ]
          },
          "metadata": {}
        }
      ]
    },
    {
      "cell_type": "markdown",
      "source": "> * Top selling genres: Shooter, Sports and Platform;\n> * Most NOT popular: Puzzle, Strategy and Adventure;\n> * Our sample contains the most games of the genres: Action (443 games) and Role-Playing (150 games) - however, they are not in the top 3 in terms of sales.\n> * *Thus, the top selling games may not be the most popular genres on the market*.",
      "metadata": {}
    },
    {
      "cell_type": "markdown",
      "source": "<a id=\"step3\"></a>\n**Conclusion**",
      "metadata": {}
    },
    {
      "cell_type": "markdown",
      "source": "At this stage, we selected the actual period - from 2013 to 2016, based on the graph data, as well as on the median lifetime of the platforms.\n\nThen we selected the top 5 platforms based on several factors: 1) by the number of copies sold for the entire current period; 2) according to the dynamics of growth/decline of sold copies for the current period. As a result, the following platforms were selected: 'PS4', '3DS', 'XOne', 'WiiU', 'PC'.\n\nFor the selected data, we conducted a correlation analysis, comparing the results with the leading platform in sales - PS4. As a result, sales of PS4 platform games, according to the Spearman test, are weakly and positively affected by critics' scores. However, user rating, on the contrary, does not affect.\nFor the rest of the platforms, a strong relationship was found between critical ratings and sales. In the case of user ratings, there is no connection.\n\nFinally, we compared the genres among the selected top 5 platforms. As a result, we found that the genres with the highest sales volumes are not necessarily those of the largest number of released games.",
      "metadata": {}
    },
    {
      "cell_type": "markdown",
      "source": "###  User portrait of each region",
      "metadata": {}
    },
    {
      "cell_type": "markdown",
      "source": "#### Most popular platforms (top 5):",
      "metadata": {}
    },
    {
      "cell_type": "code",
      "source": "def proportion_platform(df, region_sales):\n    regions_platf = df.pivot_table(values=[region_sales,'total_sales'] , index=['platform'], \n                                                 aggfunc={region_sales: np.sum, 'total_sales': np.sum}).sort_values(region_sales, ascending=False).head(5)\n    regions_platf['prop'] = ((regions_platf[region_sales] / regions_platf['total_sales'])*100)\n    \n    return regions_platf\n  \ndef plot(table, axes):\n    ax = table.plot.bar(y='prop', ax=axes, color= ['grey', 'brown', 'green', 'pink', 'orange'])\n    axes.set_xlabel(\"Платформы\")\n    axes.set_ylabel(\"Доля от общих продаж (%)\")\n    for rect in ax.patches:\n        ax.text (rect.get_x(), rect.get_height(),\"%.1f%%\"% rect.get_height(), weight='bold')\n\nfig, axes = plt.subplots(nrows=1, ncols=3, figsize=(16,7))\n\nplot(proportion_platform(df_actual,'na_sales'), axes[0])\naxes[0].set_title(\"Северная Америка\", weight='bold')\n\nplot(proportion_platform(df_actual,'eu_sales'),axes[1])\naxes[1].set_title(\"Европа\", weight='bold')\n\nplot(proportion_platform(df_actual,'jp_sales'),axes[2])\naxes[2].set_title(\"Япония\", weight='bold')",
      "metadata": {},
      "execution_count": 55,
      "outputs": [
        {
          "execution_count": 55,
          "output_type": "execute_result",
          "data": {
            "text/plain": [
              "Text(0.5, 1.0, 'Япония')"
            ]
          },
          "metadata": {}
        },
        {
          "output_type": "display_data",
          "data": {
            "image/png": "[encoded data removed]",
            "text/plain": [
              "<Figure size 1152x504 with 3 Axes>"
            ]
          },
          "metadata": {
            "needs_background": "light"
          }
        }
      ]
    },
    {
      "cell_type": "markdown",
      "source": "> * In North America and Europe, the same platforms entered the top 5: PS4, PS3, XOne, X360, 3DS. In Japan, this list only has: 3DS, PS3 and PS4. New positions not included in the top of North America and Europe - WiiU and PSV.\n> * In North America, X360 and XOne are among the leaders (60% and 58% respectively), while in Japan they didn't even make the top 5, and in Europe they are at the level of ~ 32% of all sales.\n> * In Europe, PS4 and its predecessor PS3 are the most popular (45% and 37% respectively). In North America, this platform occupies 35%. In Japan, only 5%.\n> * In Japan, PSV (56%) and 3DS (47%) are the leading platforms, while in other regions 3DS is\none of the most unpopular, moreover, the PSV platform is not at all in the ranking of other regions.",
      "metadata": {}
    },
    {
      "cell_type": "markdown",
      "source": "#### The most popular genres (top 5):",
      "metadata": {}
    },
    {
      "cell_type": "code",
      "source": "def proportion_genre(df, region_sales):\n    regions_genre = df.pivot_table(values=[region_sales,'total_sales'] , index=['genre'], \n                                                 aggfunc={region_sales: np.sum, 'total_sales': np.sum}).sort_values(region_sales, ascending=False).head(5)\n    regions_genre['prop'] = ((regions_genre[region_sales] / regions_genre['total_sales'])*100)\n    \n    return regions_genre\n  \ndef plot(table, axes):\n    ax = table.plot.bar(y='prop', ax=axes, color= ['grey', 'brown', 'green', 'pink', 'orange'])\n    axes.set_xlabel(\"Жанры\")\n    axes.set_ylabel(\"Доля от общих продаж (%)\")\n    for rect in ax.patches:\n        ax.text (rect.get_x(),rect.get_height(),\"%.1f%%\"% rect.get_height(), weight='bold')\n\nfig, axes = plt.subplots(nrows=1, ncols=3, figsize=(16,7))\n\nplot(proportion_genre(df_actual,'na_sales'), axes[0])\naxes[0].set_title(\"Северная Америка\", weight='bold')\n\nplot(proportion_genre(df_actual,'eu_sales'),axes[1])\naxes[1].set_title(\"Европа\", weight='bold')\n\nplot(proportion_genre(df_actual,'jp_sales'),axes[2])\naxes[2].set_title(\"Япония\", weight='bold')",
      "metadata": {},
      "execution_count": 56,
      "outputs": [
        {
          "execution_count": 56,
          "output_type": "execute_result",
          "data": {
            "text/plain": [
              "Text(0.5, 1.0, 'Япония')"
            ]
          },
          "metadata": {}
        },
        {
          "output_type": "display_data",
          "data": {
            "image/png": "[encoded data removed]",
            "text/plain": [
              "<Figure size 1152x504 with 3 Axes>"
            ]
          },
          "metadata": {
            "needs_background": "light"
          }
        }
      ]
    },
    {
      "cell_type": "markdown",
      "source": "> * More or less the same genres are also popular in North America and Europe. In Japan, only a few genres match the leaders in other regions.\n> * In North America, all the top 5 genres are more or less the same, more than 40% are occupied by Shooter, Sports Delivery Type, Misc. At the same time in Europe Shooter, Sports Delivery Type are also popular - 38% and 40% respectively. In Japan, Shooter is not popular at all - 3%, and Sports Delivery Type did not enter the top 5 at all.\n> * In Europe, Racing is the most popular genre (51%), but in other regions this genre is not ranked.\n> * In Japan, Role-Playing (35%) and Fighting (22%) are the leading genres. Role-Playing is also in the top 5 in other regions, but Fighting is not included in this ranking.\n",
      "metadata": {}
    },
    {
      "cell_type": "markdown",
      "source": "#### Does the ESRB rating affect sales in a particular region?",
      "metadata": {}
    },
    {
      "cell_type": "code",
      "source": "def rating(df, region_sales):\n    rating_region = df.pivot_table(values=[region_sales,'total_sales'] , index=['rating'], \n                                                 aggfunc={region_sales: np.sum, 'total_sales': np.sum})   \n    return rating_region\n\nfig, axes = plt.subplots(nrows=1, ncols=3, figsize=(15,5))\nrating(df_actual,'na_sales').plot(y='na_sales', kind='line', label = ' Динамика \\n продаж (млн.)', grid=True, style='o-', c='green', title='Северная Америка', ax=axes[0])\n\nrating(df_actual,'eu_sales').plot(y='eu_sales', kind='line', label = ' Динамика \\n продаж (млн.)', grid=True, style='o-', c='orange', title='Европа', ax=axes[1])\nrating(df_actual,'jp_sales').plot(y='jp_sales', kind='line', label = ' Динамика \\n продаж (млн.)', grid=True, style='o-', c='brown', title='Япония', ax=axes[2])",
      "metadata": {},
      "execution_count": 57,
      "outputs": [
        {
          "execution_count": 57,
          "output_type": "execute_result",
          "data": {
            "text/plain": [
              "<matplotlib.axes._subplots.AxesSubplot at 0x7f0c32ba2590>"
            ]
          },
          "metadata": {}
        },
        {
          "output_type": "display_data",
          "data": {
            "image/png": "[encoded data removed]",
            "text/plain": [
              "<Figure size 1080x360 with 3 Axes>"
            ]
          },
          "metadata": {
            "needs_background": "light"
          }
        }
      ]
    },
    {
      "cell_type": "markdown",
      "source": ">* Rating impact in Europe and North America is almost identical - games rated \"M\" (\"Mature\") - \"Mature\" (17+) cover the most sales. Probably, these data speak about the target group of computer games in each region. Thus, games for teenagers and children in the mentioned regions bring little revenue to the platforms.\n> * In Japan, on the contrary, the rating \"T\" (\"Teen\") - \"Teenagers\" (13+) increases sales. We can see in the graph that there are a lot of `Unknown` ratings in Japan. This is probably due to the fact that Japan has a Computer Entertainment Rating Organization * , with its own breakdown and names\n\n*https://ru.wikipedia.org/wiki/Computer_Entertainment_Rating_Organization",
      "metadata": {}
    },
    {
      "cell_type": "markdown",
      "source": "<a id=\"step4\"></a>\n**Conclusion**",
      "metadata": {}
    },
    {
      "cell_type": "markdown",
      "source": "If we describe an approximate portrait of users of computer games in different regions, then the theses are as follows:\n\n*North America*:\n\nTop 5 Platforms: PS4, PS3, XOne, X360, 3DS with XOne and X360 leading the way. The most popular genres are Shooter, Sports Delivery Type, Misc, all of which occupy approximately equal shares of total sales. Consumers in this region buy the most games rated \"M\" (17+). A key target group probably fell into this category.\n\n*Europe*:\n\nConsumers in this region have fairly similar results to residents of North America. It is also in the top of the platform: PS4, PS3, XOne, X360, 3DS, where PS4 and PS3 are leaders. The most popular genres are Shooter, Sports Delivery Type and Racing. The last genre is typical only for Europe. Among the inhabitants of Europe, similarly to North America, games with a rating of \"M\" (17+) are more popular.\n\n*Japan*:\n\nThe preferences of the inhabitants of Japan are different from those of the two previously mentioned regions. Here new platforms appear in the top 5: PSV and 3DS, which are either not at all popular (3DS) or not at all in the ranking (PSV). Preferred genres are Role-Playing and Fighting. The latter is also not in the ranking of other regions.",
      "metadata": {}
    },
    {
      "cell_type": "markdown",
      "source": "###  Hypothesis testing",
      "metadata": {}
    },
    {
      "cell_type": "markdown",
      "source": "Since hypothesis testing is based on comparing averages, we need to remove the \"markers\": extra 0 and -1.",
      "metadata": {}
    },
    {
      "cell_type": "code",
      "source": "df_actual_no_tbd = df_actual.loc[df_actual['user_score'] != -1]",
      "metadata": {},
      "execution_count": 58,
      "outputs": []
    },
    {
      "cell_type": "code",
      "source": "df_actual_filtered = df_actual_no_tbd[df_actual_no_tbd['user_score'] > 0]",
      "metadata": {},
      "execution_count": 59,
      "outputs": []
    },
    {
      "cell_type": "markdown",
      "source": "We need to test several hypotheses about the equality of the means among two different platforms and two different genres. To apply the t-test, some conditions are necessary:",
      "metadata": {}
    },
    {
      "cell_type": "markdown",
      "source": "**1st condition**: Data within subgroups must be *normally distributed*",
      "metadata": {}
    },
    {
      "cell_type": "markdown",
      "source": "We apply the Shapiro-Wilk criterion for verification:",
      "metadata": {}
    },
    {
      "cell_type": "code",
      "source": "from scipy import stats",
      "metadata": {},
      "execution_count": 60,
      "outputs": []
    },
    {
      "cell_type": "code",
      "source": "def shapiro_test(df):\n    alpha = 0.05\n    x,y = stats.shapiro(df['user_score'])\n    print('p-значение:', y)\n    if (y < alpha):\n        print(\"Отвергаем нулевую гипотезу\")\n    else:\n        print(\"Не получилось отвергнуть нулевую гипотезу\")",
      "metadata": {},
      "execution_count": 61,
      "outputs": []
    },
    {
      "cell_type": "code",
      "source": "def var_pr(df1, df2): \n    x = round(df1.var()/df2.var()*100)\n    if x >= 5:\n        return False\n    else:\n        return True",
      "metadata": {},
      "execution_count": 62,
      "outputs": []
    },
    {
      "cell_type": "markdown",
      "source": "**2nd condition**: *Dispersions* of subgroups must be *homogeneous*",
      "metadata": {}
    },
    {
      "cell_type": "markdown",
      "source": "Let's use Levene's test for this:",
      "metadata": {}
    },
    {
      "cell_type": "code",
      "source": "def leven_test(df1, df2):\n    alpha = 0.05\n    results = stats.levene(df1['user_score'], df2['user_score'])\n    print('p-значение:', results.pvalue)\n    if (results.pvalue < alpha):\n        print(\"Отвергаем нулевую гипотезу\")\n    else:\n        print(\"Не получилось отвергнуть нулевую гипотезу\")",
      "metadata": {},
      "execution_count": 63,
      "outputs": []
    },
    {
      "cell_type": "markdown",
      "source": "#### Hypothesis 1\n*Average user ratings for Xbox One and PC platforms are the same*, where\n - H0: average platform ratings are equal\n - H1: average ratings are not equal",
      "metadata": {}
    },
    {
      "cell_type": "code",
      "source": "df_actual_XOne = df_actual_filtered.loc[df_actual_filtered['platform'] == 'XOne']",
      "metadata": {},
      "execution_count": 64,
      "outputs": []
    },
    {
      "cell_type": "code",
      "source": "df_actual_PC = df_actual_filtered.loc[df_actual_filtered['platform'] == 'PC']",
      "metadata": {},
      "execution_count": 65,
      "outputs": []
    },
    {
      "cell_type": "markdown",
      "source": "Let's check the distribution of means:\n* H0 - data is normally distributed\n* H1 - data is not normally distributed",
      "metadata": {}
    },
    {
      "cell_type": "code",
      "source": "shapiro_test(df_actual_XOne)",
      "metadata": {},
      "execution_count": 66,
      "outputs": [
        {
          "name": "stdout",
          "output_type": "stream",
          "text": "p-значение: 1.524856543255737e-05\n\nОтвергаем нулевую гипотезу\n"
        }
      ]
    },
    {
      "cell_type": "code",
      "source": "var_pr(df_actual_XOne['user_score'], df_actual_PC['user_score'])",
      "metadata": {},
      "execution_count": 67,
      "outputs": [
        {
          "execution_count": 67,
          "output_type": "execute_result",
          "data": {
            "text/plain": [
              "False"
            ]
          },
          "metadata": {}
        }
      ]
    },
    {
      "cell_type": "markdown",
      "source": "According to the criterion, the data is not normally distributed - *do not accept H0*.\nWe compare the averages of *ranking*. This category need not be normally distributed.",
      "metadata": {}
    },
    {
      "cell_type": "markdown",
      "source": "Let's test the hypothesis about the homogeneity of the samples:\n\n* H0 - sample variances are equal\n* H1 - sample variances are not equal",
      "metadata": {}
    },
    {
      "cell_type": "code",
      "source": "leven_test(df_actual_XOne, df_actual_PC)",
      "metadata": {},
      "execution_count": 68,
      "outputs": [
        {
          "name": "stdout",
          "output_type": "stream",
          "text": "p-значение: 0.003897553110130418\n\nОтвергаем нулевую гипотезу\n"
        }
      ]
    },
    {
      "cell_type": "markdown",
      "source": "According to the criterion, the variances of the two samples are not equal. The conditions for performing a t-test are not met, so using this test alone will not be sufficient.\nWe also use the nonparametric Mann-Whitney U-test, which is less sensitive to the characteristics of our samples:",
      "metadata": {}
    },
    {
      "cell_type": "code",
      "source": "#T-Test\n\nalpha_t_test = 0.05\nresult_t_test = stats.ttest_ind(df_actual_XOne['user_score'], df_actual_PC['user_score'], equal_var = False)",
      "metadata": {},
      "execution_count": 69,
      "outputs": []
    },
    {
      "cell_type": "code",
      "source": "print('p-значение:', result_t_test.pvalue)\n\nif result_t_test.pvalue < alpha_t_test :\n    print(\"Отвергаем нулевую гипотезу\")\nelse:\n    print(\"Не получилось отвергнуть нулевую гипотезу\")",
      "metadata": {},
      "execution_count": 70,
      "outputs": [
        {
          "name": "stdout",
          "output_type": "stream",
          "text": "p-значение: 0.14759594013430463\n\nНе получилось отвергнуть нулевую гипотезу\n"
        }
      ]
    },
    {
      "cell_type": "code",
      "source": "#U-Test\nalpha_u_test = 0.05\nresult_u_test = stats.mannwhitneyu(df_actual_XOne['user_score'], df_actual_PC['user_score'])",
      "metadata": {},
      "execution_count": 71,
      "outputs": []
    },
    {
      "cell_type": "code",
      "source": "print('p-значение:', result_u_test.pvalue)\n\nif result_u_test.pvalue < alpha_u_test :\n    print(\"Отвергаем нулевую гипотезу\")\nelse:\n    print(\"Не получилось отвергнуть нулевую гипотезу\")",
      "metadata": {},
      "execution_count": 72,
      "outputs": [
        {
          "name": "stdout",
          "output_type": "stream",
          "text": "p-значение: 0.2505503367311187\n\nНе получилось отвергнуть нулевую гипотезу\n"
        }
      ]
    },
    {
      "cell_type": "code",
      "source": "print('Медианное значение пользовательского рейтинга платформы XOne:', df_actual_XOne['user_score'].median())\nprint('Медианное значение пользовательского рейтинга платформы PC:', df_actual_PC['user_score'].median())",
      "metadata": {},
      "execution_count": 73,
      "outputs": [
        {
          "name": "stdout",
          "output_type": "stream",
          "text": "Медианное значение пользовательского рейтинга платформы XOne: 6.8\n\nМедианное значение пользовательского рейтинга платформы PC: 6.8\n"
        }
      ]
    },
    {
      "cell_type": "markdown",
      "source": "**We don't have enough reason to reject the H0 hypothesis that the user ratings of the two platforms are equal.**",
      "metadata": {}
    },
    {
      "cell_type": "markdown",
      "source": "#### Hypothesis 2\n*Average user ratings for the Action and Sports genres are different*:\n - H0: average ratings are equal\n - H1: average ratings are not equal",
      "metadata": {}
    },
    {
      "cell_type": "code",
      "source": "df_actual_Action = df_actual_filtered.loc[df_actual_filtered['genre'] == 'Action']",
      "metadata": {},
      "execution_count": 74,
      "outputs": []
    },
    {
      "cell_type": "code",
      "source": "df_actual_Sports = df_actual_filtered.loc[df_actual_filtered['genre'] == 'Sports']",
      "metadata": {},
      "execution_count": 75,
      "outputs": []
    },
    {
      "cell_type": "markdown",
      "source": "We apply the Shapiro-Wilk criterion:\n    \n* H0 - data is normally distributed\n* H1 - data is not normally distributed",
      "metadata": {}
    },
    {
      "cell_type": "code",
      "source": "shapiro_test(df_actual_Action)",
      "metadata": {},
      "execution_count": 76,
      "outputs": [
        {
          "name": "stdout",
          "output_type": "stream",
          "text": "p-значение: 1.0798927229597587e-14\n\nОтвергаем нулевую гипотезу\n"
        }
      ]
    },
    {
      "cell_type": "code",
      "source": "var_pr(df_actual_Action['user_score'], df_actual_Sports['user_score'])",
      "metadata": {},
      "execution_count": 77,
      "outputs": [
        {
          "execution_count": 77,
          "output_type": "execute_result",
          "data": {
            "text/plain": [
              "False"
            ]
          },
          "metadata": {}
        }
      ]
    },
    {
      "cell_type": "markdown",
      "source": "We apply the Levin criterion:\n    \n* H0 - sample variances are equal\n* H1 - sample variances are not equal",
      "metadata": {}
    },
    {
      "cell_type": "code",
      "source": "leven_test(df_actual_Action, df_actual_Sports)",
      "metadata": {},
      "execution_count": 78,
      "outputs": [
        {
          "name": "stdout",
          "output_type": "stream",
          "text": "p-значение: 4.2566688218274047e-07\n\nОтвергаем нулевую гипотезу\n"
        }
      ]
    },
    {
      "cell_type": "markdown",
      "source": "Similarly, we apply the t-test together with the non-parametric Mann-Whitney U-test:",
      "metadata": {}
    },
    {
      "cell_type": "code",
      "source": "#T-Test\n\nalpha_t_test2 = 0.05\nresult_t_test2 = stats.ttest_ind(df_actual_Action['user_score'], df_actual_Sports['user_score'], equal_var = False)",
      "metadata": {},
      "execution_count": 79,
      "outputs": []
    },
    {
      "cell_type": "code",
      "source": "print('p-значение:', result_t_test2.pvalue)\n\nif result_t_test2.pvalue < alpha_t_test2 :\n    print(\"Отвергаем нулевую гипотезу\")\nelse:\n    print(\"Не получилось отвергнуть нулевую гипотезу\")",
      "metadata": {},
      "execution_count": 80,
      "outputs": [
        {
          "name": "stdout",
          "output_type": "stream",
          "text": "p-значение: 1.4460039700704315e-20\n\nОтвергаем нулевую гипотезу\n"
        }
      ]
    },
    {
      "cell_type": "code",
      "source": "#U-Test\n\nalpha_u_test2 = 0.05\nresult_u_test2 = stats.mannwhitneyu(df_actual_Action['user_score'], df_actual_Sports['user_score'])",
      "metadata": {},
      "execution_count": 81,
      "outputs": []
    },
    {
      "cell_type": "code",
      "source": "print('p-значение:', result_u_test2.pvalue)\n\nif result_u_test2.pvalue < alpha_u_test2 :\n    print(\"Отвергаем нулевую гипотезу\")\nelse:\n    print(\"Не получилось отвергнуть нулевую гипотезу\")",
      "metadata": {},
      "execution_count": 82,
      "outputs": [
        {
          "name": "stdout",
          "output_type": "stream",
          "text": "p-значение: 7.594585292409964e-24\n\nОтвергаем нулевую гипотезу\n"
        }
      ]
    },
    {
      "cell_type": "code",
      "source": "print('Медианное значение пользовательского рейтинга жанра Action:', df_actual_Action['user_score'].median())\nprint('Медианное значение пользовательского рейтинга жанра Sports:', df_actual_Sports['user_score'].median())",
      "metadata": {},
      "execution_count": 83,
      "outputs": [
        {
          "name": "stdout",
          "output_type": "stream",
          "text": "Медианное значение пользовательского рейтинга жанра Action: 7.1\n\nМедианное значение пользовательского рейтинга жанра Sports: 5.5\n"
        }
      ]
    },
    {
      "cell_type": "markdown",
      "source": "**We also do not have enough reason to reject the H0 hypothesis about the equality of the user ratings of the two genres.**",
      "metadata": {}
    },
    {
      "cell_type": "markdown",
      "source": "<a id=\"step5\"></a>\n**Conclusion**",
      "metadata": {}
    },
    {
      "cell_type": "markdown",
      "source": "We tested several hypotheses:\n\n1. The average user ratings of the Xbox One and PC platforms are the same;\n2. The average user ratings of the genres Action and Sports are different.\n\n<div class=\"alert-alert-info\">\n\nIn the first case, we could not reject H0 about the equality of the average XOne and PC platforms. However, the averages for Action and Sports games turned out to be different - we reject the H0 hypothesis.",
      "metadata": {}
    },
    {
      "cell_type": "markdown",
      "source": "###  Общий вывод",
      "metadata": {}
    },
    {
      "cell_type": "markdown",
      "source": "We analyzed the data for the period from 2013 to 2016. This period was not chosen by chance: in the graph of platforms with games released on them and total profit, we noticed that in general, by 2013, many platforms stopped releasing games. In addition, two other platforms emerged in 2013 that sold more copies. We also set the approximate time of the \"existence\" of the platform - from the release of the first game to the release of the last - up to 5 years.\nHaving set the current period, we identified the top 5 platforms that not only sold the most games over the entire period, but also proved to be more or less stable in terms of sales: 'PS4', '3DS', 'XOne', 'WiiU', 'PC '.\nWe found that critic scores are associated with sales growth for both the top selling platform, PS4, and the rest of the top 5 platforms. As for user ratings, they do not affect sales on PS4 and other platforms at all. We also found that the most popular genres are not necessarily the best selling ones.\nWe have compiled an approximate portrait of the consumer depending on the region, based on the most popular categories in terms of sales:\n\n*North America*:\n- platforms: X360 and XOne;\n- Genres: Shooter, Misc, Sports\n- rating: \"M\" (\"Mature\") - \"For adults\" (17+)\n\n*Europe*:\n- platforms: PS4 and PS3;\n- Genres: Racing and Sports\n- rating: \"M\" (\"Mature\") - \"For adults\" (17+)\n\n*Japan*:\n- platforms: PS4 and PS3;\n- genres: Role-Playing and Fighting\n- rating: \"T\" (\"Teen\") - \"Teenagers\" (13+)\n\n*However, if we talk about potentially profitable platforms and genres for all regions, then we can highlight the following*:\n- platforms: PS4/PS3 and 3DS;\n- genres: Action and Role-Playing.\n\n<div class=\"alert-alert-info\">\n    \nFinally, we tested several hypotheses to understand how user ratings might differ. To do this, we took several platforms and genres with different volumes of copies sold. As a result, the average scores of users of the PC and XOne platforms were equal. In terms of genres, the difference between the averages of Action and Sports games turned out to be statistically significant.\nThus, probably, in order to develop a future marketing strategy, a potential customer should pay attention to platforms with a high critical rating, regional features, as well as games with different genres. In our case, Action games have a high rating.",
      "metadata": {}
    }
  ]
}